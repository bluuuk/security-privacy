{
 "cells": [
  {
   "cell_type": "markdown",
   "metadata": {},
   "source": [
    "# Data Sharing with Encryption - ControlER side\n",
    "### Imports & W/R byte functions\n"
   ]
  },
  {
   "cell_type": "code",
   "execution_count": null,
   "metadata": {},
   "outputs": [],
   "source": [
    "from Crypto.Cipher import AES\n",
    "from Crypto import Random\n",
    "import pandas as pd\n",
    "import os\n",
    "from cryptography.hazmat.backends import default_backend\n",
    "import socket\n",
    "\n",
    "HOST = \"127.0.0.1\"  # Standard loopback interface address (localhost)\n",
    "PORT = 65432  # Port to listen on (non-privileged ports are > 1023)\n",
    "# get current directory\n",
    "path = os.getcwd()\n",
    "parent = os.path.dirname(path)\n",
    "\n",
    "DIR_DATA = parent+ '/data/'\n",
    "        \n",
    "def write_file(data,filename):\n",
    "    with open(filename, 'wb') as f:\n",
    "        f.write(data)\n",
    "        f.close()\n",
    "\n",
    "def read_file(filename):\n",
    "    with open(filename, 'rb') as f:\n",
    "        data_b = f.read()\n",
    "        f.close()\n",
    "    return data_b"
   ]
  },
  {
   "cell_type": "markdown",
   "metadata": {},
   "source": [
    "### Data Description"
   ]
  },
  {
   "cell_type": "code",
   "execution_count": null,
   "metadata": {},
   "outputs": [],
   "source": [
    "df_columns = pd.read_csv(DIR_DATA+'columns_description.csv')\n",
    "df_columns.head()"
   ]
  },
  {
   "cell_type": "code",
   "execution_count": null,
   "metadata": {},
   "outputs": [],
   "source": [
    "df_columns.info()"
   ]
  },
  {
   "cell_type": "code",
   "execution_count": null,
   "metadata": {},
   "outputs": [],
   "source": [
    "df_infringment = pd.read_csv(DIR_DATA+'infringement_dataset.csv')\n",
    "df_infringment.head()"
   ]
  },
  {
   "cell_type": "code",
   "execution_count": null,
   "metadata": {},
   "outputs": [],
   "source": [
    "df_infringment.info()"
   ]
  },
  {
   "cell_type": "markdown",
   "metadata": {},
   "source": [
    "### Public Key exchange\n",
    "\n",
    "#### DH (Diffie–Hellman)\n",
    "\n",
    "- It uses very large numbers and a lot of math, something that many of us still dread from those long and boring high school lessons\n",
    "- On a mathematical level, the Diffie-Hellman key exchange relies on one-way functions as the basis for its security. These are calculations which are simple to do one way, but much more difficult to calculate in reverse.\n",
    "- In the real world, the Diffie-Hellman key exchange is rarely used by itself. The main reason behind this is that it **provides no authentication**, which leaves users vulnerable to **man-in-the-middle attacks**\n",
    "- You could generate the parameters on the server and send them to the client, but a better option is to use a set of predefined parameters, for example [group 14 defined in RFC 3526](https://www.ietf.org/rfc/rfc3526.txt)"
   ]
  },
  {
   "cell_type": "code",
   "execution_count": null,
   "metadata": {},
   "outputs": [],
   "source": [
    "from cryptography.hazmat.primitives import hashes\n",
    "from cryptography.hazmat.primitives.asymmetric import dh\n",
    "from cryptography.hazmat.primitives.kdf.hkdf import HKDF\n",
    "from cryptography.hazmat.primitives.serialization import Encoding, PublicFormat,load_der_public_key\n",
    "\n",
    "p = 0xFFFFFFFFFFFFFFFFC90FDAA22168C234C4C6628B80DC1CD129024E088A67CC74020BBEA63B139B22514A08798E3404DDEF9519B3CD3A431B302B0A6DF25F14374FE1356D6D51C245E485B576625E7EC6F44C42E9A637ED6B0BFF5CB6F406B7EDEE386BFB5A899FA5AE9F24117C4B1FE649286651ECE45B3DC2007CB8A163BF0598DA48361C55D39A69163FA8FD24CF5F83655D23DCA3AD961C62F356208552BB9ED529077096966D670C354E4ABC9804F1746C08CA18217C32905E462E36CE3BE39E772C180E86039B2783A2EC07A28FB5C55DF06F4C52C9DE2BCBF6955817183995497CEA956AE515D2261898FA051015728E5A8AACAA68FFFFFFFFFFFFFFFF\n",
    "g = 2\n",
    "\n",
    "params_numbers = dh.DHParameterNumbers(p,g)\n",
    "parameters = params_numbers.parameters(default_backend())"
   ]
  },
  {
   "cell_type": "code",
   "execution_count": null,
   "metadata": {},
   "outputs": [],
   "source": [
    "def dh_key_exchange(params):\n",
    "    key_A = params.generate_private_key() # red\n",
    "    public_mix_A  = key_A.public_key().public_bytes(Encoding.DER, PublicFormat.SubjectPublicKeyInfo)  #orange\n",
    "    \n",
    "    with socket.socket(socket.AF_INET, socket.SOCK_STREAM) as s:\n",
    "        s.bind((HOST, PORT))\n",
    "        s.listen()\n",
    "        print('Waiting for connection...')\n",
    "        conn, addr = s.accept()\n",
    "\n",
    "        with conn:\n",
    "            print(f\"Connected by {addr}\")\n",
    "            conn.sendall(public_mix_A)\n",
    "            public_mix_B = conn.recv(1024)\n",
    "            print(f'Received public key in bytes from Controler {public_mix_B}')\n",
    "        conn.close()\n",
    "\n",
    "    public_mix_B_ser = load_der_public_key(public_mix_B,backend = default_backend())\n",
    "    shared_key = key_A.exchange(public_mix_B_ser)\n",
    "\n",
    "    derived_key = HKDF(\n",
    "        algorithm = hashes.SHA256(),\n",
    "        length=32,\n",
    "        salt=None,\n",
    "        info=b'handshake data',\n",
    "        backend=default_backend()\n",
    "    ).derive(shared_key)\n",
    "\n",
    "    return derived_key"
   ]
  },
  {
   "cell_type": "code",
   "execution_count": null,
   "metadata": {},
   "outputs": [],
   "source": [
    "dh_key = dh_key_exchange(parameters)\n",
    "dh_key"
   ]
  },
  {
   "cell_type": "markdown",
   "metadata": {},
   "source": [
    "**Action #1** -> Run all the upper cells"
   ]
  },
  {
   "cell_type": "markdown",
   "metadata": {},
   "source": [
    "#### RSA (Rivest–Shamir–Adleman)"
   ]
  },
  {
   "cell_type": "code",
   "execution_count": null,
   "metadata": {},
   "outputs": [],
   "source": [
    "from cryptography.hazmat.primitives.asymmetric import rsa\n",
    "from cryptography.hazmat.primitives import hashes\n",
    "from cryptography.hazmat.primitives.asymmetric import padding"
   ]
  },
  {
   "cell_type": "markdown",
   "metadata": {},
   "source": [
    "### Data encryption\n",
    "\n",
    "#### AES (ECB) "
   ]
  },
  {
   "cell_type": "code",
   "execution_count": null,
   "metadata": {},
   "outputs": [],
   "source": [
    "def encrypt_data_ecb(data, key):\n",
    "      \n",
    "    block_size = AES.block_size\n",
    "    # TODO\n",
    "    padding_length = block_size - len(data) % block_size # Calculate padding_length to make len(image array) a multiple of block_size\n",
    "    data += bytes(padding_length * \".\", \"UTF-8\") # Just an arbitrary padding byte\n",
    "\n",
    " \n",
    "    mode   = AES.MODE_ECB\n",
    "    aes    = AES.new(key, mode)\n",
    "    \n",
    "    encrypted_data = aes.encrypt(data) # Your code to encrypt image_array using AES\n",
    "\n",
    "    return encrypted_data"
   ]
  },
  {
   "cell_type": "code",
   "execution_count": null,
   "metadata": {},
   "outputs": [],
   "source": [
    "shared_key_aes = dh_key_exchange(parameters)\n",
    "data_enc = encrypt_data_ecb(columns_b,shared_key_aes)"
   ]
  },
  {
   "cell_type": "markdown",
   "metadata": {},
   "source": [
    "#### AES (CBC)"
   ]
  },
  {
   "cell_type": "markdown",
   "metadata": {},
   "source": [
    "### Data authentication"
   ]
  },
  {
   "cell_type": "markdown",
   "metadata": {},
   "source": [
    "#### HMAC\n",
    "\n",
    "Hash Algorihtms\n",
    "- **SHA1** is a generic cryptographic hash function and uses 160 bit long key to encrypt data\n",
    "- **SHA-256** is a patented cryptographic hash function created by the National Security Agency in 2001 as a successor to SHA-1. It's one flavor of SHA-2 (Secure Hash Algorithm 2). uses 256 bit long key to encrypt data\n",
    "\n",
    "**Hash-based message authentication code** is a cryptographic authentication technique that uses a hash function (SHA-1, MD5, or RIPEMD-128/60) and a secret key.\n",
    "A pair using this system must agree on:\n",
    "\n",
    "- Secret keys - They must have a way to decode messages they get. A secret key handles this task, and it's meant to stay secret and hidden.\n",
    "- Algorithm - They must pick one hash function that all of their messages will move through"
   ]
  },
  {
   "cell_type": "code",
   "execution_count": null,
   "metadata": {},
   "outputs": [],
   "source": [
    "from cryptography.hazmat.primitives.ciphers.aead import AESGCM\n",
    "from cryptography.hazmat.primitives import cmac, hashes, hmac\n",
    "import os\n",
    "\n",
    "#key 1: For encryption function and gives confidentiality and authencity\n",
    "key_1 = dh_key_exchange(parameters)\n",
    "#key 2: For hash function to verify integrity and authencity\n",
    "key_2 = dh_key_exchange(parameters)\n",
    "\n",
    "# authencity_data = b\"authenticated but unencrypted data\"\n",
    "\n",
    "key_1"
   ]
  },
  {
   "cell_type": "code",
   "execution_count": null,
   "metadata": {},
   "outputs": [],
   "source": [
    "h = hmac.HMAC(key_2, hashes.SHA256(), backend=default_backend())\n",
    "\n",
    "h.update(ciphertext)\n",
    "signature = h.finalize()\n",
    "\n",
    "write_file(signature,'signature.txt')\n",
    "signature"
   ]
  }
 ],
 "metadata": {
  "kernelspec": {
   "display_name": "Python 3.9.0 ('privacy_ml')",
   "language": "python",
   "name": "python3"
  },
  "language_info": {
   "codemirror_mode": {
    "name": "ipython",
    "version": 3
   },
   "file_extension": ".py",
   "mimetype": "text/x-python",
   "name": "python",
   "nbconvert_exporter": "python",
   "pygments_lexer": "ipython3",
   "version": "3.9.13"
  },
  "orig_nbformat": 4,
  "vscode": {
   "interpreter": {
    "hash": "02d888a284c187bf482916b0c94b716276c7bf27434aeb274f1ca7bf16388a6f"
   }
  }
 },
 "nbformat": 4,
 "nbformat_minor": 2
}
