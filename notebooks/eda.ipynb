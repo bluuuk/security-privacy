{
 "cells": [
  {
   "cell_type": "code",
   "execution_count": null,
   "metadata": {},
   "outputs": [],
   "source": [
    "import seaborn as sb\n",
    "import matplotlib.pyplot as plt\n",
    "import pandas as pd\n",
    "\n",
    "pd.options.display.max_colwidth = 200\n",
    "\n",
    "# get current directory\n",
    "path = os.getcwd()\n",
    "parent = os.path.dirname(path)\n",
    "\n",
    "DIR_DATA = parent+ '/data/'"
   ]
  },
  {
   "cell_type": "markdown",
   "metadata": {},
   "source": [
    "### EDA "
   ]
  },
  {
   "cell_type": "code",
   "execution_count": null,
   "metadata": {},
   "outputs": [],
   "source": [
    "regex = 'past_.*'\n",
    "\n",
    "cond_regex = df_columns['New name'].str.match(regex)\n",
    "result = df_columns[cond_regex]\n",
    "cols = result['New name'].tolist()\n",
    "cols += ['infringed']\n",
    "\n",
    "cols"
   ]
  },
  {
   "cell_type": "code",
   "execution_count": null,
   "metadata": {},
   "outputs": [],
   "source": [
    "cond = df_columns['New name'].isin(cols)\n",
    "df_columns.loc[cond]"
   ]
  },
  {
   "cell_type": "code",
   "execution_count": null,
   "metadata": {},
   "outputs": [],
   "source": [
    "fig, axes = plt.subplots(1, 4)\n",
    "\n",
    "sb.countplot(data=df_loans_processed, x=\"infringed\", ax= axes[0])\n",
    "sb.countplot(x ='gender', hue = \"infringed\", data = df_loans_processed, ax= axes[1])"
   ]
  },
  {
   "cell_type": "code",
   "execution_count": null,
   "metadata": {},
   "outputs": [],
   "source": [
    "sb.catplot(data=df_loans_processed, x=\"infringed\", y=\"past_loans_canceled\")"
   ]
  },
  {
   "cell_type": "code",
   "execution_count": null,
   "metadata": {},
   "outputs": [],
   "source": [
    "cond = df_loans['infringed'] == 1\n",
    "df_infriged = df_loans[cond]\n",
    "df_infriged.head()"
   ]
  }
 ],
 "metadata": {
  "kernelspec": {
   "display_name": "Python 3.10.6 64-bit",
   "language": "python",
   "name": "python3"
  },
  "language_info": {
   "name": "python",
   "version": "3.10.6"
  },
  "orig_nbformat": 4,
  "vscode": {
   "interpreter": {
    "hash": "916dbcbb3f70747c44a77c7bcd40155683ae19c65e1c03b4aa3499c5328201f1"
   }
  }
 },
 "nbformat": 4,
 "nbformat_minor": 2
}
