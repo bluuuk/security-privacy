{
 "cells": [
  {
   "cell_type": "markdown",
   "metadata": {},
   "source": [
    "# Data Sharing with Encryption - Delentture side"
   ]
  },
  {
   "cell_type": "markdown",
   "metadata": {},
   "source": [
    "### Recommended \n",
    "\n",
    "Create conda enviroment to avoid conflicts with packages."
   ]
  },
  {
   "cell_type": "markdown",
   "metadata": {},
   "source": [
    "### Installs"
   ]
  },
  {
   "cell_type": "code",
   "execution_count": null,
   "metadata": {},
   "outputs": [],
   "source": [
    "!pip uninstall -y pycrypto\n",
    "!pip install pycryptodome\n",
    "!pip install seaborn"
   ]
  },
  {
   "cell_type": "markdown",
   "metadata": {},
   "source": [
    "### Imports & W/R byte functions"
   ]
  },
  {
   "cell_type": "code",
   "execution_count": null,
   "metadata": {},
   "outputs": [],
   "source": [
    "from Crypto.Cipher import AES\n",
    "from Crypto import Random\n",
    "from cryptography.hazmat.backends import default_backend\n",
    "import socket\n",
    "\n",
    "HOST = \"127.0.0.1\"  # The server's hostname or IP address\n",
    "PORT = 65432  \n",
    "\n",
    "# get current directory\n",
    "path = os.getcwd()\n",
    "parent = os.path.dirname(path)\n",
    "\n",
    "DIR_DATA = parent+ '/data/'\n",
    "\n",
    "def write_file(data,filename):\n",
    "    with open(filename, 'wb') as f:\n",
    "        f.write(data)\n",
    "        f.close()\n",
    "\n",
    "def read_file(filename):\n",
    "    with open(filename, 'rb') as f:\n",
    "        data_b = f.read()\n",
    "        f.close()\n",
    "    return data_b\n"
   ]
  },
  {
   "cell_type": "markdown",
   "metadata": {},
   "source": [
    "### Public Key Exchange\n",
    "\n",
    "#### DH (Diffie–Hellman)"
   ]
  },
  {
   "cell_type": "code",
   "execution_count": null,
   "metadata": {},
   "outputs": [],
   "source": [
    "from cryptography.hazmat.primitives import hashes\n",
    "from cryptography.hazmat.primitives.asymmetric import dh\n",
    "from cryptography.hazmat.primitives.kdf.hkdf import HKDF\n",
    "from cryptography.hazmat.primitives.serialization import Encoding, PublicFormat,load_der_public_key\n",
    "\n",
    "p = 0xFFFFFFFFFFFFFFFFC90FDAA22168C234C4C6628B80DC1CD129024E088A67CC74020BBEA63B139B22514A08798E3404DDEF9519B3CD3A431B302B0A6DF25F14374FE1356D6D51C245E485B576625E7EC6F44C42E9A637ED6B0BFF5CB6F406B7EDEE386BFB5A899FA5AE9F24117C4B1FE649286651ECE45B3DC2007CB8A163BF0598DA48361C55D39A69163FA8FD24CF5F83655D23DCA3AD961C62F356208552BB9ED529077096966D670C354E4ABC9804F1746C08CA18217C32905E462E36CE3BE39E772C180E86039B2783A2EC07A28FB5C55DF06F4C52C9DE2BCBF6955817183995497CEA956AE515D2261898FA051015728E5A8AACAA68FFFFFFFFFFFFFFFF\n",
    "g = 2\n",
    "\n",
    "params_numbers = dh.DHParameterNumbers(p,g)\n",
    "parameters = params_numbers.parameters(default_backend())"
   ]
  },
  {
   "cell_type": "code",
   "execution_count": null,
   "metadata": {},
   "outputs": [],
   "source": [
    "def dh_key_exchange(params):\n",
    "    key_B = parameters.generate_private_key() # red\n",
    "    public_mix_B  = key_B.public_key().public_bytes(Encoding.DER, PublicFormat.SubjectPublicKeyInfo)  #orange\n",
    "    \n",
    "    with socket.socket(socket.AF_INET, socket.SOCK_STREAM) as s:\n",
    "        s.connect((HOST, PORT))\n",
    "        public_mix_A = s.recv(1024)\n",
    "        print(f'Received public key in bytes from Controler {public_mix_A}')\n",
    "        s.sendall(public_mix_B)\n",
    "        \n",
    "    public_mix_A_ser = load_der_public_key(public_mix_A,backend = default_backend())\n",
    "    shared_key = key_B.exchange(public_mix_A_ser)\n",
    "\n",
    "    derived_key = HKDF(\n",
    "        algorithm = hashes.SHA256(),\n",
    "        length=32,\n",
    "        salt=None,\n",
    "        info=b'handshake data',\n",
    "        backend=default_backend()\n",
    "    ).derive(shared_key)\n",
    "\n",
    "    return derived_key"
   ]
  },
  {
   "cell_type": "code",
   "execution_count": null,
   "metadata": {},
   "outputs": [],
   "source": [
    "dh_key = dh_key_exchange(parameters)\n",
    "dh_key"
   ]
  },
  {
   "cell_type": "markdown",
   "metadata": {},
   "source": [
    "**Action #2** -> Run all the upper cells"
   ]
  },
  {
   "cell_type": "markdown",
   "metadata": {},
   "source": [
    "#### RSA (Rivest–Shamir–Adleman)"
   ]
  },
  {
   "cell_type": "code",
   "execution_count": null,
   "metadata": {},
   "outputs": [],
   "source": [
    "from cryptography.hazmat.primitives.asymmetric import rsa\n",
    "from cryptography.hazmat.primitives import hashes\n",
    "from cryptography.hazmat.primitives.asymmetric import padding"
   ]
  },
  {
   "cell_type": "markdown",
   "metadata": {},
   "source": [
    "### De-encryption\n",
    "\n",
    "#### HMAC"
   ]
  },
  {
   "cell_type": "code",
   "execution_count": null,
   "metadata": {},
   "outputs": [],
   "source": [
    "from cryptography.hazmat.primitives.ciphers.aead import AESGCM\n",
    "from cryptography.hazmat.backends import default_backend\n",
    "from cryptography.hazmat.primitives import cmac, hashes, hmac\n",
    "import os\n",
    "\n",
    "key_1 = b'\\xb6\\xb3\\xe8\\xb2\\x10\\x07\\xf9\\x82\\xb6\\xfb\\xdc\\xf5\\xc2\\xcd\\x1d\\xd6I\\x83\\xd6\\xf0)w\\xaawV8\\x93SH&C\\xf7'\n",
    "key_2 = b'$C&F)J@NcRfUjXnZ'"
   ]
  },
  {
   "cell_type": "code",
   "execution_count": null,
   "metadata": {},
   "outputs": [],
   "source": [
    "h = hmac.HMAC(key_2, hashes.SHA256())\n",
    "h.update(ciphertext)\n",
    "h.verify(signature)"
   ]
  },
  {
   "cell_type": "markdown",
   "metadata": {},
   "source": [
    "#### AES (ECB)"
   ]
  },
  {
   "cell_type": "code",
   "execution_count": null,
   "metadata": {},
   "outputs": [],
   "source": [
    "def decrypt_image_ecb(data, key, iv=b''):\n",
    "    \n",
    "    block_size = AES.block_size\n",
    "    padding_length = block_size - len(data) % block_size # Calculate padding_length to make len(image array) a multiple of block_size\n",
    "    data += bytes(padding_length * \".\", \"UTF-8\") # Just an arbitrary padding byte\n",
    "\n",
    "    mode   = AES.MODE_ECB\n",
    "    aes    = AES.new(key, mode)\n",
    "\n",
    "    decrypted_data = aes.decrypt(data) # Your code to decrypt image_array using AES\n",
    "\n",
    "    return decrypted_data"
   ]
  },
  {
   "cell_type": "markdown",
   "metadata": {},
   "source": [
    "#### AES (CBC)"
   ]
  },
  {
   "cell_type": "markdown",
   "metadata": {},
   "source": [
    "### EDA (Exploratory Data Analysis)"
   ]
  },
  {
   "cell_type": "code",
   "execution_count": null,
   "metadata": {},
   "outputs": [],
   "source": [
    "import seaborn as sb\n",
    "import pandas as pd\n",
    "import matplotlib.pyplot as plt\n",
    "\n",
    "pd.options.display.max_colwidth = 200"
   ]
  },
  {
   "cell_type": "code",
   "execution_count": null,
   "metadata": {},
   "outputs": [],
   "source": [
    "df_columns = pd.read_csv(DIR_DATA+'columns_description.csv')\n",
    "df_loans = pd.read_csv(DIR_DATA+'infringement_dataset.csv')"
   ]
  },
  {
   "cell_type": "markdown",
   "metadata": {},
   "source": [
    "#### Data Description"
   ]
  },
  {
   "cell_type": "code",
   "execution_count": 75,
   "metadata": {},
   "outputs": [
    {
     "data": {
      "text/html": [
       "<div>\n",
       "<style scoped>\n",
       "    .dataframe tbody tr th:only-of-type {\n",
       "        vertical-align: middle;\n",
       "    }\n",
       "\n",
       "    .dataframe tbody tr th {\n",
       "        vertical-align: top;\n",
       "    }\n",
       "\n",
       "    .dataframe thead th {\n",
       "        text-align: right;\n",
       "    }\n",
       "</style>\n",
       "<table border=\"1\" class=\"dataframe\">\n",
       "  <thead>\n",
       "    <tr style=\"text-align: right;\">\n",
       "      <th></th>\n",
       "      <th>New name</th>\n",
       "      <th>Description</th>\n",
       "    </tr>\n",
       "  </thead>\n",
       "  <tbody>\n",
       "    <tr>\n",
       "      <th>0</th>\n",
       "      <td>address</td>\n",
       "      <td>Client's address</td>\n",
       "    </tr>\n",
       "    <tr>\n",
       "      <th>1</th>\n",
       "      <td>age</td>\n",
       "      <td>Client's age in days at the time of application</td>\n",
       "    </tr>\n",
       "    <tr>\n",
       "      <th>2</th>\n",
       "      <td>annual_income</td>\n",
       "      <td>Income of the client</td>\n",
       "    </tr>\n",
       "    <tr>\n",
       "      <th>3</th>\n",
       "      <td>appendix_a</td>\n",
       "      <td>Did client provide document 2</td>\n",
       "    </tr>\n",
       "    <tr>\n",
       "      <th>4</th>\n",
       "      <td>appendix_b</td>\n",
       "      <td>Did client provide document 3</td>\n",
       "    </tr>\n",
       "  </tbody>\n",
       "</table>\n",
       "</div>"
      ],
      "text/plain": [
       "        New name                                      Description\n",
       "0        address                                 Client's address\n",
       "1            age  Client's age in days at the time of application\n",
       "2  annual_income                             Income of the client\n",
       "3     appendix_a                    Did client provide document 2\n",
       "4     appendix_b                    Did client provide document 3"
      ]
     },
     "execution_count": 75,
     "metadata": {},
     "output_type": "execute_result"
    }
   ],
   "source": [
    "df_columns.head()"
   ]
  },
  {
   "cell_type": "code",
   "execution_count": 76,
   "metadata": {},
   "outputs": [
    {
     "name": "stdout",
     "output_type": "stream",
     "text": [
      "<class 'pandas.core.frame.DataFrame'>\n",
      "RangeIndex: 67 entries, 0 to 66\n",
      "Data columns (total 2 columns):\n",
      " #   Column       Non-Null Count  Dtype \n",
      "---  ------       --------------  ----- \n",
      " 0   New name     67 non-null     object\n",
      " 1   Description  67 non-null     object\n",
      "dtypes: object(2)\n",
      "memory usage: 1.2+ KB\n"
     ]
    }
   ],
   "source": [
    "df_columns.info()"
   ]
  },
  {
   "cell_type": "code",
   "execution_count": 77,
   "metadata": {},
   "outputs": [
    {
     "data": {
      "text/html": [
       "<div>\n",
       "<style scoped>\n",
       "    .dataframe tbody tr th:only-of-type {\n",
       "        vertical-align: middle;\n",
       "    }\n",
       "\n",
       "    .dataframe tbody tr th {\n",
       "        vertical-align: top;\n",
       "    }\n",
       "\n",
       "    .dataframe thead th {\n",
       "        text-align: right;\n",
       "    }\n",
       "</style>\n",
       "<table border=\"1\" class=\"dataframe\">\n",
       "  <thead>\n",
       "    <tr style=\"text-align: right;\">\n",
       "      <th></th>\n",
       "      <th>loan_id</th>\n",
       "      <th>infringed</th>\n",
       "      <th>contract_type</th>\n",
       "      <th>gender</th>\n",
       "      <th>has_own_car</th>\n",
       "      <th>has_own_realty</th>\n",
       "      <th>num_children</th>\n",
       "      <th>annual_income</th>\n",
       "      <th>credit_amount</th>\n",
       "      <th>credit_annuity</th>\n",
       "      <th>...</th>\n",
       "      <th>SK_ID_CURR</th>\n",
       "      <th>avg_days_decision</th>\n",
       "      <th>past_avg_amount_annuity</th>\n",
       "      <th>past_avg_amt_application</th>\n",
       "      <th>past_avg_amt_credit</th>\n",
       "      <th>past_loans_approved</th>\n",
       "      <th>past_loans_refused</th>\n",
       "      <th>past_loans_canceled</th>\n",
       "      <th>past_loans_unused</th>\n",
       "      <th>past_loans_total</th>\n",
       "    </tr>\n",
       "  </thead>\n",
       "  <tbody>\n",
       "    <tr>\n",
       "      <th>0</th>\n",
       "      <td>100002</td>\n",
       "      <td>1</td>\n",
       "      <td>Cash loans</td>\n",
       "      <td>M</td>\n",
       "      <td>N</td>\n",
       "      <td>Y</td>\n",
       "      <td>0</td>\n",
       "      <td>202500.0</td>\n",
       "      <td>406597.5</td>\n",
       "      <td>24700.5</td>\n",
       "      <td>...</td>\n",
       "      <td>100002.0</td>\n",
       "      <td>606.000000</td>\n",
       "      <td>9251.775</td>\n",
       "      <td>179055.00</td>\n",
       "      <td>179055.00</td>\n",
       "      <td>1.0</td>\n",
       "      <td>0.0</td>\n",
       "      <td>0.0</td>\n",
       "      <td>0.0</td>\n",
       "      <td>1.0</td>\n",
       "    </tr>\n",
       "    <tr>\n",
       "      <th>1</th>\n",
       "      <td>100003</td>\n",
       "      <td>0</td>\n",
       "      <td>Cash loans</td>\n",
       "      <td>F</td>\n",
       "      <td>N</td>\n",
       "      <td>N</td>\n",
       "      <td>0</td>\n",
       "      <td>270000.0</td>\n",
       "      <td>1293502.5</td>\n",
       "      <td>35698.5</td>\n",
       "      <td>...</td>\n",
       "      <td>100003.0</td>\n",
       "      <td>1305.000000</td>\n",
       "      <td>56553.990</td>\n",
       "      <td>435436.50</td>\n",
       "      <td>484191.00</td>\n",
       "      <td>3.0</td>\n",
       "      <td>0.0</td>\n",
       "      <td>0.0</td>\n",
       "      <td>0.0</td>\n",
       "      <td>3.0</td>\n",
       "    </tr>\n",
       "    <tr>\n",
       "      <th>2</th>\n",
       "      <td>100004</td>\n",
       "      <td>0</td>\n",
       "      <td>Revolving loans</td>\n",
       "      <td>M</td>\n",
       "      <td>Y</td>\n",
       "      <td>Y</td>\n",
       "      <td>0</td>\n",
       "      <td>67500.0</td>\n",
       "      <td>135000.0</td>\n",
       "      <td>6750.0</td>\n",
       "      <td>...</td>\n",
       "      <td>100004.0</td>\n",
       "      <td>815.000000</td>\n",
       "      <td>5357.250</td>\n",
       "      <td>24282.00</td>\n",
       "      <td>20106.00</td>\n",
       "      <td>1.0</td>\n",
       "      <td>0.0</td>\n",
       "      <td>0.0</td>\n",
       "      <td>0.0</td>\n",
       "      <td>1.0</td>\n",
       "    </tr>\n",
       "    <tr>\n",
       "      <th>3</th>\n",
       "      <td>100006</td>\n",
       "      <td>0</td>\n",
       "      <td>Cash loans</td>\n",
       "      <td>F</td>\n",
       "      <td>N</td>\n",
       "      <td>Y</td>\n",
       "      <td>0</td>\n",
       "      <td>135000.0</td>\n",
       "      <td>312682.5</td>\n",
       "      <td>29686.5</td>\n",
       "      <td>...</td>\n",
       "      <td>100006.0</td>\n",
       "      <td>272.444444</td>\n",
       "      <td>23651.175</td>\n",
       "      <td>272203.26</td>\n",
       "      <td>291695.50</td>\n",
       "      <td>5.0</td>\n",
       "      <td>3.0</td>\n",
       "      <td>1.0</td>\n",
       "      <td>0.0</td>\n",
       "      <td>9.0</td>\n",
       "    </tr>\n",
       "    <tr>\n",
       "      <th>4</th>\n",
       "      <td>100007</td>\n",
       "      <td>0</td>\n",
       "      <td>Cash loans</td>\n",
       "      <td>M</td>\n",
       "      <td>N</td>\n",
       "      <td>Y</td>\n",
       "      <td>0</td>\n",
       "      <td>121500.0</td>\n",
       "      <td>513000.0</td>\n",
       "      <td>21865.5</td>\n",
       "      <td>...</td>\n",
       "      <td>100007.0</td>\n",
       "      <td>1222.833333</td>\n",
       "      <td>12278.805</td>\n",
       "      <td>150530.25</td>\n",
       "      <td>166638.75</td>\n",
       "      <td>6.0</td>\n",
       "      <td>0.0</td>\n",
       "      <td>0.0</td>\n",
       "      <td>0.0</td>\n",
       "      <td>6.0</td>\n",
       "    </tr>\n",
       "  </tbody>\n",
       "</table>\n",
       "<p>5 rows × 69 columns</p>\n",
       "</div>"
      ],
      "text/plain": [
       "   loan_id  infringed    contract_type gender has_own_car has_own_realty  \\\n",
       "0   100002          1       Cash loans      M           N              Y   \n",
       "1   100003          0       Cash loans      F           N              N   \n",
       "2   100004          0  Revolving loans      M           Y              Y   \n",
       "3   100006          0       Cash loans      F           N              Y   \n",
       "4   100007          0       Cash loans      M           N              Y   \n",
       "\n",
       "   num_children  annual_income  credit_amount  credit_annuity  ...  \\\n",
       "0             0       202500.0       406597.5         24700.5  ...   \n",
       "1             0       270000.0      1293502.5         35698.5  ...   \n",
       "2             0        67500.0       135000.0          6750.0  ...   \n",
       "3             0       135000.0       312682.5         29686.5  ...   \n",
       "4             0       121500.0       513000.0         21865.5  ...   \n",
       "\n",
       "   SK_ID_CURR avg_days_decision past_avg_amount_annuity  \\\n",
       "0    100002.0        606.000000                9251.775   \n",
       "1    100003.0       1305.000000               56553.990   \n",
       "2    100004.0        815.000000                5357.250   \n",
       "3    100006.0        272.444444               23651.175   \n",
       "4    100007.0       1222.833333               12278.805   \n",
       "\n",
       "  past_avg_amt_application past_avg_amt_credit  past_loans_approved  \\\n",
       "0                179055.00           179055.00                  1.0   \n",
       "1                435436.50           484191.00                  3.0   \n",
       "2                 24282.00            20106.00                  1.0   \n",
       "3                272203.26           291695.50                  5.0   \n",
       "4                150530.25           166638.75                  6.0   \n",
       "\n",
       "   past_loans_refused  past_loans_canceled  past_loans_unused  \\\n",
       "0                 0.0                  0.0                0.0   \n",
       "1                 0.0                  0.0                0.0   \n",
       "2                 0.0                  0.0                0.0   \n",
       "3                 3.0                  1.0                0.0   \n",
       "4                 0.0                  0.0                0.0   \n",
       "\n",
       "   past_loans_total  \n",
       "0               1.0  \n",
       "1               3.0  \n",
       "2               1.0  \n",
       "3               9.0  \n",
       "4               6.0  \n",
       "\n",
       "[5 rows x 69 columns]"
      ]
     },
     "execution_count": 77,
     "metadata": {},
     "output_type": "execute_result"
    }
   ],
   "source": [
    "df_loans.head()"
   ]
  },
  {
   "cell_type": "code",
   "execution_count": 78,
   "metadata": {},
   "outputs": [
    {
     "name": "stdout",
     "output_type": "stream",
     "text": [
      "<class 'pandas.core.frame.DataFrame'>\n",
      "RangeIndex: 307511 entries, 0 to 307510\n",
      "Data columns (total 69 columns):\n",
      " #   Column                    Non-Null Count   Dtype  \n",
      "---  ------                    --------------   -----  \n",
      " 0   loan_id                   307511 non-null  int64  \n",
      " 1   infringed                 307511 non-null  int64  \n",
      " 2   contract_type             307511 non-null  object \n",
      " 3   gender                    307511 non-null  object \n",
      " 4   has_own_car               307511 non-null  object \n",
      " 5   has_own_realty            307511 non-null  object \n",
      " 6   num_children              307511 non-null  int64  \n",
      " 7   annual_income             307511 non-null  float64\n",
      " 8   credit_amount             307511 non-null  float64\n",
      " 9   credit_annuity            307499 non-null  float64\n",
      " 10  goods_valuation           307233 non-null  float64\n",
      " 11  income_type               307511 non-null  object \n",
      " 12  education                 307511 non-null  object \n",
      " 13  family_status             307511 non-null  object \n",
      " 14  housing_type              307511 non-null  object \n",
      " 15  age                       307511 non-null  int64  \n",
      " 16  days_employed             307511 non-null  int64  \n",
      " 17  car_age                   104582 non-null  float64\n",
      " 18  provided_mobilephone      307511 non-null  int64  \n",
      " 19  provided_workphone        307511 non-null  int64  \n",
      " 20  provided_homephone        307511 non-null  int64  \n",
      " 21  mobilephone_reachable     307511 non-null  int64  \n",
      " 22  provided_email            307511 non-null  int64  \n",
      " 23  occupation_type           211120 non-null  object \n",
      " 24  num_family_members        307509 non-null  float64\n",
      " 25  region_rating             307511 non-null  int64  \n",
      " 26  organization_type         307511 non-null  object \n",
      " 27  score_ext_1               134133 non-null  float64\n",
      " 28  score_ext_2               306851 non-null  float64\n",
      " 29  score_ext_3               246546 non-null  float64\n",
      " 30  appendix_a                307511 non-null  int64  \n",
      " 31  appendix_b                307511 non-null  int64  \n",
      " 32  appendix_c                307511 non-null  int64  \n",
      " 33  appendix_d                307511 non-null  int64  \n",
      " 34  appendix_e                307511 non-null  int64  \n",
      " 35  appendix_f                307511 non-null  int64  \n",
      " 36  appendix_g                307511 non-null  int64  \n",
      " 37  appendix_h                307511 non-null  int64  \n",
      " 38  appendix_i                307511 non-null  int64  \n",
      " 39  appendix_j                307511 non-null  int64  \n",
      " 40  appendix_k                307511 non-null  int64  \n",
      " 41  appendix_l                307511 non-null  int64  \n",
      " 42  appendix_m                307511 non-null  int64  \n",
      " 43  appendix_n                307511 non-null  int64  \n",
      " 44  appendix_o                307511 non-null  int64  \n",
      " 45  appendix_p                307511 non-null  int64  \n",
      " 46  appendix_q                307511 non-null  int64  \n",
      " 47  appendix_r                307511 non-null  int64  \n",
      " 48  appendix_s                307511 non-null  int64  \n",
      " 49  appendix_t                307511 non-null  int64  \n",
      " 50  num_req_bureau_hour       265992 non-null  float64\n",
      " 51  num_req_bureau_day        265992 non-null  float64\n",
      " 52  num_req_bureau_week       265992 non-null  float64\n",
      " 53  num_req_bureau_month      265992 non-null  float64\n",
      " 54  num_req_bureau_qrt        265992 non-null  float64\n",
      " 55  num_req_bureau_year       265992 non-null  float64\n",
      " 56  first_name                307511 non-null  object \n",
      " 57  last_name                 307511 non-null  object \n",
      " 58  address                   307511 non-null  object \n",
      " 59  SK_ID_CURR                291057 non-null  float64\n",
      " 60  avg_days_decision         291057 non-null  float64\n",
      " 61  past_avg_amount_annuity   290640 non-null  float64\n",
      " 62  past_avg_amt_application  291057 non-null  float64\n",
      " 63  past_avg_amt_credit       291057 non-null  float64\n",
      " 64  past_loans_approved       291057 non-null  float64\n",
      " 65  past_loans_refused        291057 non-null  float64\n",
      " 66  past_loans_canceled       291057 non-null  float64\n",
      " 67  past_loans_unused         291057 non-null  float64\n",
      " 68  past_loans_total          291057 non-null  float64\n",
      "dtypes: float64(25), int64(31), object(13)\n",
      "memory usage: 161.9+ MB\n"
     ]
    }
   ],
   "source": [
    "df_loans.info()"
   ]
  },
  {
   "cell_type": "code",
   "execution_count": 79,
   "metadata": {},
   "outputs": [
    {
     "data": {
      "text/plain": [
       "0    282686\n",
       "1     24825\n",
       "Name: infringed, dtype: int64"
      ]
     },
     "execution_count": 79,
     "metadata": {},
     "output_type": "execute_result"
    }
   ],
   "source": [
    "df_loans['infringed'].value_counts()"
   ]
  },
  {
   "cell_type": "code",
   "execution_count": 80,
   "metadata": {},
   "outputs": [
    {
     "data": {
      "text/plain": [
       "F      202448\n",
       "M      105059\n",
       "XNA         4\n",
       "Name: gender, dtype: int64"
      ]
     },
     "execution_count": 80,
     "metadata": {},
     "output_type": "execute_result"
    }
   ],
   "source": [
    "df_loans['gender'].value_counts()"
   ]
  },
  {
   "cell_type": "code",
   "execution_count": 81,
   "metadata": {},
   "outputs": [
    {
     "data": {
      "text/plain": [
       "Cash loans         278232\n",
       "Revolving loans     29279\n",
       "Name: contract_type, dtype: int64"
      ]
     },
     "execution_count": 81,
     "metadata": {},
     "output_type": "execute_result"
    }
   ],
   "source": [
    "df_loans['contract_type'].value_counts()"
   ]
  },
  {
   "cell_type": "code",
   "execution_count": 82,
   "metadata": {},
   "outputs": [
    {
     "data": {
      "text/plain": [
       "['past_avg_amount_annuity',\n",
       " 'past_avg_amt_application',\n",
       " 'past_avg_amt_credit',\n",
       " 'past_loans_approved',\n",
       " 'past_loans_canceled',\n",
       " 'past_loans_refused',\n",
       " 'past_loans_total',\n",
       " 'past_loans_unused',\n",
       " 'infringed']"
      ]
     },
     "execution_count": 82,
     "metadata": {},
     "output_type": "execute_result"
    }
   ],
   "source": [
    "regex = 'past_.*'\n",
    "\n",
    "cond_regex = df_columns['New name'].str.match(regex)\n",
    "result = df_columns[cond_regex]\n",
    "cols = result['New name'].tolist()\n",
    "cols += ['infringed']\n",
    "\n",
    "cols"
   ]
  },
  {
   "cell_type": "code",
   "execution_count": 83,
   "metadata": {},
   "outputs": [
    {
     "data": {
      "text/html": [
       "<div>\n",
       "<style scoped>\n",
       "    .dataframe tbody tr th:only-of-type {\n",
       "        vertical-align: middle;\n",
       "    }\n",
       "\n",
       "    .dataframe tbody tr th {\n",
       "        vertical-align: top;\n",
       "    }\n",
       "\n",
       "    .dataframe thead th {\n",
       "        text-align: right;\n",
       "    }\n",
       "</style>\n",
       "<table border=\"1\" class=\"dataframe\">\n",
       "  <thead>\n",
       "    <tr style=\"text-align: right;\">\n",
       "      <th></th>\n",
       "      <th>New name</th>\n",
       "      <th>Description</th>\n",
       "    </tr>\n",
       "  </thead>\n",
       "  <tbody>\n",
       "    <tr>\n",
       "      <th>37</th>\n",
       "      <td>infringed</td>\n",
       "      <td>Target variable (1 - client with payment difficulties: he/she had late payment more than X days on at least one of the first Y installments of the loan in our sample, 0 - all other cases)</td>\n",
       "    </tr>\n",
       "    <tr>\n",
       "      <th>51</th>\n",
       "      <td>past_avg_amount_annuity</td>\n",
       "      <td>Average amount of annuity in past loans for the client</td>\n",
       "    </tr>\n",
       "    <tr>\n",
       "      <th>52</th>\n",
       "      <td>past_avg_amt_application</td>\n",
       "      <td>Average amount of credit applied in past loans by the client</td>\n",
       "    </tr>\n",
       "    <tr>\n",
       "      <th>53</th>\n",
       "      <td>past_avg_amt_credit</td>\n",
       "      <td>Average amount of credit conceded in past loans for the client</td>\n",
       "    </tr>\n",
       "    <tr>\n",
       "      <th>54</th>\n",
       "      <td>past_loans_approved</td>\n",
       "      <td>Number of loans approved in the past for the client</td>\n",
       "    </tr>\n",
       "    <tr>\n",
       "      <th>55</th>\n",
       "      <td>past_loans_canceled</td>\n",
       "      <td>Number of loans canceled in the past for the client</td>\n",
       "    </tr>\n",
       "    <tr>\n",
       "      <th>56</th>\n",
       "      <td>past_loans_refused</td>\n",
       "      <td>Number of loans refused in the past for the client</td>\n",
       "    </tr>\n",
       "    <tr>\n",
       "      <th>57</th>\n",
       "      <td>past_loans_total</td>\n",
       "      <td>Number of loans in the past for the client, regardless of the outcome</td>\n",
       "    </tr>\n",
       "    <tr>\n",
       "      <th>58</th>\n",
       "      <td>past_loans_unused</td>\n",
       "      <td>Number of loans approved but not used in the past for the client</td>\n",
       "    </tr>\n",
       "  </tbody>\n",
       "</table>\n",
       "</div>"
      ],
      "text/plain": [
       "                    New name  \\\n",
       "37                 infringed   \n",
       "51   past_avg_amount_annuity   \n",
       "52  past_avg_amt_application   \n",
       "53       past_avg_amt_credit   \n",
       "54       past_loans_approved   \n",
       "55       past_loans_canceled   \n",
       "56        past_loans_refused   \n",
       "57          past_loans_total   \n",
       "58         past_loans_unused   \n",
       "\n",
       "                                                                                                                                                                                    Description  \n",
       "37  Target variable (1 - client with payment difficulties: he/she had late payment more than X days on at least one of the first Y installments of the loan in our sample, 0 - all other cases)  \n",
       "51                                                                                                                                       Average amount of annuity in past loans for the client  \n",
       "52                                                                                                                                 Average amount of credit applied in past loans by the client  \n",
       "53                                                                                                                               Average amount of credit conceded in past loans for the client  \n",
       "54                                                                                                                                          Number of loans approved in the past for the client  \n",
       "55                                                                                                                                          Number of loans canceled in the past for the client  \n",
       "56                                                                                                                                           Number of loans refused in the past for the client  \n",
       "57                                                                                                                        Number of loans in the past for the client, regardless of the outcome  \n",
       "58                                                                                                                             Number of loans approved but not used in the past for the client  "
      ]
     },
     "execution_count": 83,
     "metadata": {},
     "output_type": "execute_result"
    }
   ],
   "source": [
    "cond = df_columns['New name'].isin(cols)\n",
    "df_columns.loc[cond]"
   ]
  },
  {
   "cell_type": "code",
   "execution_count": 84,
   "metadata": {},
   "outputs": [
    {
     "data": {
      "text/plain": [
       "<AxesSubplot: xlabel='gender', ylabel='count'>"
      ]
     },
     "execution_count": 84,
     "metadata": {},
     "output_type": "execute_result"
    },
    {
     "data": {
      "image/png": "[encoded data removed]",
      "text/plain": [
       "<Figure size 640x480 with 2 Axes>"
      ]
     },
     "metadata": {},
     "output_type": "display_data"
    }
   ],
   "source": [
    "fig, axes = plt.subplots(1, 2)\n",
    "\n",
    "sb.countplot(data=df_loans, x=\"infringed\", ax= axes[0])\n",
    "sb.countplot(x ='gender', hue = \"infringed\", data = df_loans, ax= axes[1])"
   ]
  },
  {
   "cell_type": "code",
   "execution_count": 92,
   "metadata": {},
   "outputs": [
    {
     "data": {
      "text/plain": [
       "<seaborn.axisgrid.FacetGrid at 0x7f9da644f190>"
      ]
     },
     "execution_count": 92,
     "metadata": {},
     "output_type": "execute_result"
    },
    {
     "data": {
      "image/png": "[encoded data removed]",
      "text/plain": [
       "<Figure size 500x500 with 1 Axes>"
      ]
     },
     "metadata": {},
     "output_type": "display_data"
    }
   ],
   "source": [
    "sb.catplot(data=df_loans, x=\"infringed\", y=\"past_loans_canceled\")"
   ]
  },
  {
   "cell_type": "code",
   "execution_count": null,
   "metadata": {},
   "outputs": [],
   "source": [
    "cond = df_loans['infringed'] == 1\n",
    "df_infriged = df_loans[cond]\n",
    "df_infriged.head()\n"
   ]
  },
  {
   "cell_type": "code",
   "execution_count": null,
   "metadata": {},
   "outputs": [],
   "source": [
    "sb.lineplot(data=df_loans, x=\"timepoint\", y=\"signal\", hue=\"event\")"
   ]
  }
 ],
 "metadata": {
  "kernelspec": {
   "display_name": "Python 3.9.0 ('privacy_ml')",
   "language": "python",
   "name": "python3"
  },
  "language_info": {
   "codemirror_mode": {
    "name": "ipython",
    "version": 3
   },
   "file_extension": ".py",
   "mimetype": "text/x-python",
   "name": "python",
   "nbconvert_exporter": "python",
   "pygments_lexer": "ipython3",
   "version": "3.9.13"
  },
  "orig_nbformat": 4,
  "vscode": {
   "interpreter": {
    "hash": "02d888a284c187bf482916b0c94b716276c7bf27434aeb274f1ca7bf16388a6f"
   }
  }
 },
 "nbformat": 4,
 "nbformat_minor": 2
}
