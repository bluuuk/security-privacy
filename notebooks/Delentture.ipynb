{
 "cells": [
  {
   "cell_type": "markdown",
   "metadata": {},
   "source": [
    "# Data Sharing with Encryption - Delentture side"
   ]
  },
  {
   "cell_type": "markdown",
   "metadata": {},
   "source": [
    "### Recommended \n",
    "\n",
    "Create conda enviroment to avoid conflicts with packages."
   ]
  },
  {
   "cell_type": "markdown",
   "metadata": {},
   "source": [
    "### Installs"
   ]
  },
  {
   "cell_type": "code",
   "execution_count": null,
   "metadata": {},
   "outputs": [],
   "source": [
    "!pip uninstall -y pycrypto\n",
    "!pip install pycryptodome\n",
    "!pip install seaborn"
   ]
  },
  {
   "cell_type": "markdown",
   "metadata": {},
   "source": [
    "### Imports & W/R byte functions"
   ]
  },
  {
   "cell_type": "code",
   "execution_count": null,
   "metadata": {},
   "outputs": [],
   "source": [
    "import seaborn as sb\n",
    "from Crypto.Cipher import AES\n",
    "from Crypto import Random\n",
    "from cryptography.hazmat.backends import default_backend\n",
    "import socket\n",
    "\n",
    "HOST = \"127.0.0.1\"  # The server's hostname or IP address\n",
    "PORT = 65432  \n",
    "\n",
    "def write_file(data,filename):\n",
    "    with open(filename, 'wb') as f:\n",
    "        f.write(data)\n",
    "        f.close()\n",
    "\n",
    "def read_file(filename):\n",
    "    with open(filename, 'rb') as f:\n",
    "        data_b = f.read()\n",
    "        f.close()\n",
    "    return data_b\n"
   ]
  },
  {
   "cell_type": "markdown",
   "metadata": {},
   "source": [
    "### Public Key Exchange\n",
    "\n",
    "#### DH (Diffie–Hellman)"
   ]
  },
  {
   "cell_type": "code",
   "execution_count": null,
   "metadata": {},
   "outputs": [],
   "source": [
    "from cryptography.hazmat.primitives import hashes\n",
    "from cryptography.hazmat.primitives.asymmetric import dh\n",
    "from cryptography.hazmat.primitives.kdf.hkdf import HKDF\n",
    "from cryptography.hazmat.primitives.serialization import Encoding, PublicFormat,load_der_public_key\n",
    "\n",
    "p = 0xFFFFFFFFFFFFFFFFC90FDAA22168C234C4C6628B80DC1CD129024E088A67CC74020BBEA63B139B22514A08798E3404DDEF9519B3CD3A431B302B0A6DF25F14374FE1356D6D51C245E485B576625E7EC6F44C42E9A637ED6B0BFF5CB6F406B7EDEE386BFB5A899FA5AE9F24117C4B1FE649286651ECE45B3DC2007CB8A163BF0598DA48361C55D39A69163FA8FD24CF5F83655D23DCA3AD961C62F356208552BB9ED529077096966D670C354E4ABC9804F1746C08CA18217C32905E462E36CE3BE39E772C180E86039B2783A2EC07A28FB5C55DF06F4C52C9DE2BCBF6955817183995497CEA956AE515D2261898FA051015728E5A8AACAA68FFFFFFFFFFFFFFFF\n",
    "g = 2\n",
    "\n",
    "params_numbers = dh.DHParameterNumbers(p,g)\n",
    "parameters = params_numbers.parameters(default_backend())"
   ]
  },
  {
   "cell_type": "code",
   "execution_count": null,
   "metadata": {},
   "outputs": [],
   "source": [
    "def dh_key_exchange(params):\n",
    "    key_B = parameters.generate_private_key() # red\n",
    "    public_mix_B  = key_B.public_key().public_bytes(Encoding.DER, PublicFormat.SubjectPublicKeyInfo)  #orange\n",
    "    \n",
    "    with socket.socket(socket.AF_INET, socket.SOCK_STREAM) as s:\n",
    "        s.connect((HOST, PORT))\n",
    "        public_mix_A = s.recv(1024)\n",
    "        print(f'Received public key in bytes from Controler {public_mix_A}')\n",
    "        s.sendall(public_mix_B)\n",
    "        \n",
    "    public_mix_A_ser = load_der_public_key(public_mix_A,backend = default_backend())\n",
    "    shared_key = key_B.exchange(public_mix_A_ser)\n",
    "\n",
    "    derived_key = HKDF(\n",
    "        algorithm = hashes.SHA256(),\n",
    "        length=32,\n",
    "        salt=None,\n",
    "        info=b'handshake data',\n",
    "        backend=default_backend()\n",
    "    ).derive(shared_key)\n",
    "\n",
    "    return derived_key"
   ]
  },
  {
   "cell_type": "code",
   "execution_count": null,
   "metadata": {},
   "outputs": [],
   "source": [
    "dh_key = dh_key_exchange(parameters)\n",
    "dh_key"
   ]
  },
  {
   "cell_type": "markdown",
   "metadata": {},
   "source": [
    "**Action #2** -> Run all the upper cells"
   ]
  },
  {
   "cell_type": "markdown",
   "metadata": {},
   "source": [
    "#### RSA (Rivest–Shamir–Adleman)"
   ]
  },
  {
   "cell_type": "code",
   "execution_count": null,
   "metadata": {},
   "outputs": [],
   "source": [
    "from cryptography.hazmat.primitives.asymmetric import rsa\n",
    "from cryptography.hazmat.primitives import hashes\n",
    "from cryptography.hazmat.primitives.asymmetric import padding"
   ]
  },
  {
   "cell_type": "markdown",
   "metadata": {},
   "source": [
    "### De-encryption\n",
    "\n",
    "#### HMAC"
   ]
  },
  {
   "cell_type": "code",
   "execution_count": null,
   "metadata": {},
   "outputs": [],
   "source": [
    "from cryptography.hazmat.primitives.ciphers.aead import AESGCM\n",
    "from cryptography.hazmat.backends import default_backend\n",
    "from cryptography.hazmat.primitives import cmac, hashes, hmac\n",
    "import os\n",
    "\n",
    "key_1 = b'\\xb6\\xb3\\xe8\\xb2\\x10\\x07\\xf9\\x82\\xb6\\xfb\\xdc\\xf5\\xc2\\xcd\\x1d\\xd6I\\x83\\xd6\\xf0)w\\xaawV8\\x93SH&C\\xf7'\n",
    "key_2 = b'$C&F)J@NcRfUjXnZ'"
   ]
  },
  {
   "cell_type": "code",
   "execution_count": null,
   "metadata": {},
   "outputs": [],
   "source": [
    "h = hmac.HMAC(key_2, hashes.SHA256())\n",
    "h.update(ciphertext)\n",
    "h.verify(signature)"
   ]
  },
  {
   "cell_type": "markdown",
   "metadata": {},
   "source": [
    "#### AES (ECB)"
   ]
  },
  {
   "cell_type": "code",
   "execution_count": null,
   "metadata": {},
   "outputs": [],
   "source": [
    "def decrypt_image_ecb(data, key, iv=b''):\n",
    "    \n",
    "    block_size = AES.block_size\n",
    "    padding_length = block_size - len(data) % block_size # Calculate padding_length to make len(image array) a multiple of block_size\n",
    "    data += bytes(padding_length * \".\", \"UTF-8\") # Just an arbitrary padding byte\n",
    "\n",
    "    mode   = AES.MODE_ECB\n",
    "    aes    = AES.new(key, mode)\n",
    "\n",
    "    decrypted_data = aes.decrypt(data) # Your code to decrypt image_array using AES\n",
    "\n",
    "    return decrypted_data"
   ]
  },
  {
   "cell_type": "markdown",
   "metadata": {},
   "source": [
    "#### AES (CBC)"
   ]
  },
  {
   "cell_type": "markdown",
   "metadata": {},
   "source": [
    "### EDA (Exploratory Data Analysis)"
   ]
  }
 ],
 "metadata": {
  "kernelspec": {
   "display_name": "Python 3.9.0 ('privacy_ml')",
   "language": "python",
   "name": "python3"
  },
  "language_info": {
   "codemirror_mode": {
    "name": "ipython",
    "version": 3
   },
   "file_extension": ".py",
   "mimetype": "text/x-python",
   "name": "python",
   "nbconvert_exporter": "python",
   "pygments_lexer": "ipython3",
   "version": "3.9.13"
  },
  "orig_nbformat": 4,
  "vscode": {
   "interpreter": {
    "hash": "02d888a284c187bf482916b0c94b716276c7bf27434aeb274f1ca7bf16388a6f"
   }
  }
 },
 "nbformat": 4,
 "nbformat_minor": 2
}
