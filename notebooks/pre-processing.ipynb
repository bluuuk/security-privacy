{
 "cells": [
  {
   "cell_type": "markdown",
   "metadata": {},
   "source": [
    "# Data Sharing with Encryption - Delentture side"
   ]
  },
  {
   "cell_type": "markdown",
   "metadata": {},
   "source": [
    "## Recommended \n",
    "\n",
    "Create conda enviroment to avoid conflicts with packages."
   ]
  },
  {
   "cell_type": "markdown",
   "metadata": {},
   "source": [
    "## Data Analysis"
   ]
  },
  {
   "cell_type": "code",
   "execution_count": 1,
   "metadata": {},
   "outputs": [],
   "source": [
    "import pandas as pd\n",
    "import os\n",
    "\n",
    "pd.options.display.max_colwidth = 200\n",
    "\n",
    "# get current directory\n",
    "path = os.getcwd()\n",
    "parent = os.path.dirname(path)\n",
    "\n",
    "DIR_DATA = parent+ '/data/'"
   ]
  },
  {
   "cell_type": "code",
   "execution_count": 2,
   "metadata": {},
   "outputs": [],
   "source": [
    "df_columns = pd.read_csv(DIR_DATA+'columns_description.csv')\n",
    "df_loans = pd.read_csv(DIR_DATA+'infringement_dataset.csv')"
   ]
  },
  {
   "cell_type": "code",
   "execution_count": 3,
   "metadata": {},
   "outputs": [
    {
     "data": {
      "text/html": [
       "<div>\n",
       "<style scoped>\n",
       "    .dataframe tbody tr th:only-of-type {\n",
       "        vertical-align: middle;\n",
       "    }\n",
       "\n",
       "    .dataframe tbody tr th {\n",
       "        vertical-align: top;\n",
       "    }\n",
       "\n",
       "    .dataframe thead th {\n",
       "        text-align: right;\n",
       "    }\n",
       "</style>\n",
       "<table border=\"1\" class=\"dataframe\">\n",
       "  <thead>\n",
       "    <tr style=\"text-align: right;\">\n",
       "      <th></th>\n",
       "      <th>New name</th>\n",
       "      <th>Description</th>\n",
       "    </tr>\n",
       "  </thead>\n",
       "  <tbody>\n",
       "    <tr>\n",
       "      <th>0</th>\n",
       "      <td>address</td>\n",
       "      <td>Client's address</td>\n",
       "    </tr>\n",
       "    <tr>\n",
       "      <th>1</th>\n",
       "      <td>age</td>\n",
       "      <td>Client's age in days at the time of application</td>\n",
       "    </tr>\n",
       "    <tr>\n",
       "      <th>2</th>\n",
       "      <td>annual_income</td>\n",
       "      <td>Income of the client</td>\n",
       "    </tr>\n",
       "    <tr>\n",
       "      <th>3</th>\n",
       "      <td>appendix_a</td>\n",
       "      <td>Did client provide document 2</td>\n",
       "    </tr>\n",
       "    <tr>\n",
       "      <th>4</th>\n",
       "      <td>appendix_b</td>\n",
       "      <td>Did client provide document 3</td>\n",
       "    </tr>\n",
       "  </tbody>\n",
       "</table>\n",
       "</div>"
      ],
      "text/plain": [
       "        New name                                      Description\n",
       "0        address                                 Client's address\n",
       "1            age  Client's age in days at the time of application\n",
       "2  annual_income                             Income of the client\n",
       "3     appendix_a                    Did client provide document 2\n",
       "4     appendix_b                    Did client provide document 3"
      ]
     },
     "execution_count": 3,
     "metadata": {},
     "output_type": "execute_result"
    }
   ],
   "source": [
    "df_columns.head()"
   ]
  },
  {
   "cell_type": "code",
   "execution_count": 4,
   "metadata": {},
   "outputs": [
    {
     "data": {
      "text/html": [
       "<div>\n",
       "<style scoped>\n",
       "    .dataframe tbody tr th:only-of-type {\n",
       "        vertical-align: middle;\n",
       "    }\n",
       "\n",
       "    .dataframe tbody tr th {\n",
       "        vertical-align: top;\n",
       "    }\n",
       "\n",
       "    .dataframe thead th {\n",
       "        text-align: right;\n",
       "    }\n",
       "</style>\n",
       "<table border=\"1\" class=\"dataframe\">\n",
       "  <thead>\n",
       "    <tr style=\"text-align: right;\">\n",
       "      <th></th>\n",
       "      <th>loan_id</th>\n",
       "      <th>infringed</th>\n",
       "      <th>contract_type</th>\n",
       "      <th>gender</th>\n",
       "      <th>has_own_car</th>\n",
       "      <th>has_own_realty</th>\n",
       "      <th>num_children</th>\n",
       "      <th>annual_income</th>\n",
       "      <th>credit_amount</th>\n",
       "      <th>credit_annuity</th>\n",
       "      <th>...</th>\n",
       "      <th>SK_ID_CURR</th>\n",
       "      <th>avg_days_decision</th>\n",
       "      <th>past_avg_amount_annuity</th>\n",
       "      <th>past_avg_amt_application</th>\n",
       "      <th>past_avg_amt_credit</th>\n",
       "      <th>past_loans_approved</th>\n",
       "      <th>past_loans_refused</th>\n",
       "      <th>past_loans_canceled</th>\n",
       "      <th>past_loans_unused</th>\n",
       "      <th>past_loans_total</th>\n",
       "    </tr>\n",
       "  </thead>\n",
       "  <tbody>\n",
       "    <tr>\n",
       "      <th>0</th>\n",
       "      <td>100002</td>\n",
       "      <td>1</td>\n",
       "      <td>Cash loans</td>\n",
       "      <td>M</td>\n",
       "      <td>N</td>\n",
       "      <td>Y</td>\n",
       "      <td>0</td>\n",
       "      <td>202500.0</td>\n",
       "      <td>406597.5</td>\n",
       "      <td>24700.5</td>\n",
       "      <td>...</td>\n",
       "      <td>100002.0</td>\n",
       "      <td>606.000000</td>\n",
       "      <td>9251.775</td>\n",
       "      <td>179055.00</td>\n",
       "      <td>179055.00</td>\n",
       "      <td>1.0</td>\n",
       "      <td>0.0</td>\n",
       "      <td>0.0</td>\n",
       "      <td>0.0</td>\n",
       "      <td>1.0</td>\n",
       "    </tr>\n",
       "    <tr>\n",
       "      <th>1</th>\n",
       "      <td>100003</td>\n",
       "      <td>0</td>\n",
       "      <td>Cash loans</td>\n",
       "      <td>F</td>\n",
       "      <td>N</td>\n",
       "      <td>N</td>\n",
       "      <td>0</td>\n",
       "      <td>270000.0</td>\n",
       "      <td>1293502.5</td>\n",
       "      <td>35698.5</td>\n",
       "      <td>...</td>\n",
       "      <td>100003.0</td>\n",
       "      <td>1305.000000</td>\n",
       "      <td>56553.990</td>\n",
       "      <td>435436.50</td>\n",
       "      <td>484191.00</td>\n",
       "      <td>3.0</td>\n",
       "      <td>0.0</td>\n",
       "      <td>0.0</td>\n",
       "      <td>0.0</td>\n",
       "      <td>3.0</td>\n",
       "    </tr>\n",
       "    <tr>\n",
       "      <th>2</th>\n",
       "      <td>100004</td>\n",
       "      <td>0</td>\n",
       "      <td>Revolving loans</td>\n",
       "      <td>M</td>\n",
       "      <td>Y</td>\n",
       "      <td>Y</td>\n",
       "      <td>0</td>\n",
       "      <td>67500.0</td>\n",
       "      <td>135000.0</td>\n",
       "      <td>6750.0</td>\n",
       "      <td>...</td>\n",
       "      <td>100004.0</td>\n",
       "      <td>815.000000</td>\n",
       "      <td>5357.250</td>\n",
       "      <td>24282.00</td>\n",
       "      <td>20106.00</td>\n",
       "      <td>1.0</td>\n",
       "      <td>0.0</td>\n",
       "      <td>0.0</td>\n",
       "      <td>0.0</td>\n",
       "      <td>1.0</td>\n",
       "    </tr>\n",
       "    <tr>\n",
       "      <th>3</th>\n",
       "      <td>100006</td>\n",
       "      <td>0</td>\n",
       "      <td>Cash loans</td>\n",
       "      <td>F</td>\n",
       "      <td>N</td>\n",
       "      <td>Y</td>\n",
       "      <td>0</td>\n",
       "      <td>135000.0</td>\n",
       "      <td>312682.5</td>\n",
       "      <td>29686.5</td>\n",
       "      <td>...</td>\n",
       "      <td>100006.0</td>\n",
       "      <td>272.444444</td>\n",
       "      <td>23651.175</td>\n",
       "      <td>272203.26</td>\n",
       "      <td>291695.50</td>\n",
       "      <td>5.0</td>\n",
       "      <td>3.0</td>\n",
       "      <td>1.0</td>\n",
       "      <td>0.0</td>\n",
       "      <td>9.0</td>\n",
       "    </tr>\n",
       "    <tr>\n",
       "      <th>4</th>\n",
       "      <td>100007</td>\n",
       "      <td>0</td>\n",
       "      <td>Cash loans</td>\n",
       "      <td>M</td>\n",
       "      <td>N</td>\n",
       "      <td>Y</td>\n",
       "      <td>0</td>\n",
       "      <td>121500.0</td>\n",
       "      <td>513000.0</td>\n",
       "      <td>21865.5</td>\n",
       "      <td>...</td>\n",
       "      <td>100007.0</td>\n",
       "      <td>1222.833333</td>\n",
       "      <td>12278.805</td>\n",
       "      <td>150530.25</td>\n",
       "      <td>166638.75</td>\n",
       "      <td>6.0</td>\n",
       "      <td>0.0</td>\n",
       "      <td>0.0</td>\n",
       "      <td>0.0</td>\n",
       "      <td>6.0</td>\n",
       "    </tr>\n",
       "  </tbody>\n",
       "</table>\n",
       "<p>5 rows × 69 columns</p>\n",
       "</div>"
      ],
      "text/plain": [
       "   loan_id  infringed    contract_type gender has_own_car has_own_realty  \\\n",
       "0   100002          1       Cash loans      M           N              Y   \n",
       "1   100003          0       Cash loans      F           N              N   \n",
       "2   100004          0  Revolving loans      M           Y              Y   \n",
       "3   100006          0       Cash loans      F           N              Y   \n",
       "4   100007          0       Cash loans      M           N              Y   \n",
       "\n",
       "   num_children  annual_income  credit_amount  credit_annuity  ...  \\\n",
       "0             0       202500.0       406597.5         24700.5  ...   \n",
       "1             0       270000.0      1293502.5         35698.5  ...   \n",
       "2             0        67500.0       135000.0          6750.0  ...   \n",
       "3             0       135000.0       312682.5         29686.5  ...   \n",
       "4             0       121500.0       513000.0         21865.5  ...   \n",
       "\n",
       "   SK_ID_CURR avg_days_decision past_avg_amount_annuity  \\\n",
       "0    100002.0        606.000000                9251.775   \n",
       "1    100003.0       1305.000000               56553.990   \n",
       "2    100004.0        815.000000                5357.250   \n",
       "3    100006.0        272.444444               23651.175   \n",
       "4    100007.0       1222.833333               12278.805   \n",
       "\n",
       "  past_avg_amt_application past_avg_amt_credit  past_loans_approved  \\\n",
       "0                179055.00           179055.00                  1.0   \n",
       "1                435436.50           484191.00                  3.0   \n",
       "2                 24282.00            20106.00                  1.0   \n",
       "3                272203.26           291695.50                  5.0   \n",
       "4                150530.25           166638.75                  6.0   \n",
       "\n",
       "   past_loans_refused  past_loans_canceled  past_loans_unused  \\\n",
       "0                 0.0                  0.0                0.0   \n",
       "1                 0.0                  0.0                0.0   \n",
       "2                 0.0                  0.0                0.0   \n",
       "3                 3.0                  1.0                0.0   \n",
       "4                 0.0                  0.0                0.0   \n",
       "\n",
       "   past_loans_total  \n",
       "0               1.0  \n",
       "1               3.0  \n",
       "2               1.0  \n",
       "3               9.0  \n",
       "4               6.0  \n",
       "\n",
       "[5 rows x 69 columns]"
      ]
     },
     "execution_count": 4,
     "metadata": {},
     "output_type": "execute_result"
    }
   ],
   "source": [
    "df_loans.head()"
   ]
  },
  {
   "cell_type": "code",
   "execution_count": 5,
   "metadata": {},
   "outputs": [
    {
     "name": "stdout",
     "output_type": "stream",
     "text": [
      "<class 'pandas.core.frame.DataFrame'>\n",
      "RangeIndex: 307511 entries, 0 to 307510\n",
      "Data columns (total 69 columns):\n",
      " #   Column                    Non-Null Count   Dtype  \n",
      "---  ------                    --------------   -----  \n",
      " 0   loan_id                   307511 non-null  int64  \n",
      " 1   infringed                 307511 non-null  int64  \n",
      " 2   contract_type             307511 non-null  object \n",
      " 3   gender                    307511 non-null  object \n",
      " 4   has_own_car               307511 non-null  object \n",
      " 5   has_own_realty            307511 non-null  object \n",
      " 6   num_children              307511 non-null  int64  \n",
      " 7   annual_income             307511 non-null  float64\n",
      " 8   credit_amount             307511 non-null  float64\n",
      " 9   credit_annuity            307499 non-null  float64\n",
      " 10  goods_valuation           307233 non-null  float64\n",
      " 11  income_type               307511 non-null  object \n",
      " 12  education                 307511 non-null  object \n",
      " 13  family_status             307511 non-null  object \n",
      " 14  housing_type              307511 non-null  object \n",
      " 15  age                       307511 non-null  int64  \n",
      " 16  days_employed             307511 non-null  int64  \n",
      " 17  car_age                   104582 non-null  float64\n",
      " 18  provided_mobilephone      307511 non-null  int64  \n",
      " 19  provided_workphone        307511 non-null  int64  \n",
      " 20  provided_homephone        307511 non-null  int64  \n",
      " 21  mobilephone_reachable     307511 non-null  int64  \n",
      " 22  provided_email            307511 non-null  int64  \n",
      " 23  occupation_type           211120 non-null  object \n",
      " 24  num_family_members        307509 non-null  float64\n",
      " 25  region_rating             307511 non-null  int64  \n",
      " 26  organization_type         307511 non-null  object \n",
      " 27  score_ext_1               134133 non-null  float64\n",
      " 28  score_ext_2               306851 non-null  float64\n",
      " 29  score_ext_3               246546 non-null  float64\n",
      " 30  appendix_a                307511 non-null  int64  \n",
      " 31  appendix_b                307511 non-null  int64  \n",
      " 32  appendix_c                307511 non-null  int64  \n",
      " 33  appendix_d                307511 non-null  int64  \n",
      " 34  appendix_e                307511 non-null  int64  \n",
      " 35  appendix_f                307511 non-null  int64  \n",
      " 36  appendix_g                307511 non-null  int64  \n",
      " 37  appendix_h                307511 non-null  int64  \n",
      " 38  appendix_i                307511 non-null  int64  \n",
      " 39  appendix_j                307511 non-null  int64  \n",
      " 40  appendix_k                307511 non-null  int64  \n",
      " 41  appendix_l                307511 non-null  int64  \n",
      " 42  appendix_m                307511 non-null  int64  \n",
      " 43  appendix_n                307511 non-null  int64  \n",
      " 44  appendix_o                307511 non-null  int64  \n",
      " 45  appendix_p                307511 non-null  int64  \n",
      " 46  appendix_q                307511 non-null  int64  \n",
      " 47  appendix_r                307511 non-null  int64  \n",
      " 48  appendix_s                307511 non-null  int64  \n",
      " 49  appendix_t                307511 non-null  int64  \n",
      " 50  num_req_bureau_hour       265992 non-null  float64\n",
      " 51  num_req_bureau_day        265992 non-null  float64\n",
      " 52  num_req_bureau_week       265992 non-null  float64\n",
      " 53  num_req_bureau_month      265992 non-null  float64\n",
      " 54  num_req_bureau_qrt        265992 non-null  float64\n",
      " 55  num_req_bureau_year       265992 non-null  float64\n",
      " 56  first_name                307511 non-null  object \n",
      " 57  last_name                 307511 non-null  object \n",
      " 58  address                   307511 non-null  object \n",
      " 59  SK_ID_CURR                291057 non-null  float64\n",
      " 60  avg_days_decision         291057 non-null  float64\n",
      " 61  past_avg_amount_annuity   290640 non-null  float64\n",
      " 62  past_avg_amt_application  291057 non-null  float64\n",
      " 63  past_avg_amt_credit       291057 non-null  float64\n",
      " 64  past_loans_approved       291057 non-null  float64\n",
      " 65  past_loans_refused        291057 non-null  float64\n",
      " 66  past_loans_canceled       291057 non-null  float64\n",
      " 67  past_loans_unused         291057 non-null  float64\n",
      " 68  past_loans_total          291057 non-null  float64\n",
      "dtypes: float64(25), int64(31), object(13)\n",
      "memory usage: 161.9+ MB\n"
     ]
    }
   ],
   "source": [
    "df_loans.info()"
   ]
  },
  {
   "cell_type": "markdown",
   "metadata": {},
   "source": [
    "### Data Pre-processing"
   ]
  },
  {
   "cell_type": "code",
   "execution_count": 6,
   "metadata": {},
   "outputs": [
    {
     "data": {
      "text/plain": [
       "(307511, 69)"
      ]
     },
     "execution_count": 6,
     "metadata": {},
     "output_type": "execute_result"
    }
   ],
   "source": [
    "def check_nans(df,cols = None):\n",
    "    if cols is None:\n",
    "        cols = df.columns\n",
    "    for col in cols:\n",
    "        print(f'{col} - {df[col].isnull().sum()}')\n",
    "\n",
    "def check_unique(df, cols = None):\n",
    "    if cols is None:\n",
    "        cols = df.columns\n",
    "    for col in cols:\n",
    "        print(f'{col} - {df[col].unique()}\\n')  \n",
    "\n",
    "cols_drop =['first_name','last_name','address']\n",
    "\n",
    "df_loans_processed = df_loans.copy()\n",
    "df_loans_processed.shape"
   ]
  },
  {
   "cell_type": "markdown",
   "metadata": {},
   "source": [
    "#### Cleaning"
   ]
  },
  {
   "cell_type": "code",
   "execution_count": 7,
   "metadata": {},
   "outputs": [
    {
     "data": {
      "text/html": [
       "<div>\n",
       "<style scoped>\n",
       "    .dataframe tbody tr th:only-of-type {\n",
       "        vertical-align: middle;\n",
       "    }\n",
       "\n",
       "    .dataframe tbody tr th {\n",
       "        vertical-align: top;\n",
       "    }\n",
       "\n",
       "    .dataframe thead th {\n",
       "        text-align: right;\n",
       "    }\n",
       "</style>\n",
       "<table border=\"1\" class=\"dataframe\">\n",
       "  <thead>\n",
       "    <tr style=\"text-align: right;\">\n",
       "      <th></th>\n",
       "      <th>New name</th>\n",
       "      <th>Description</th>\n",
       "    </tr>\n",
       "  </thead>\n",
       "  <tbody>\n",
       "    <tr>\n",
       "      <th>23</th>\n",
       "      <td>car_age</td>\n",
       "      <td>Age of client's car</td>\n",
       "    </tr>\n",
       "    <tr>\n",
       "      <th>29</th>\n",
       "      <td>family_status</td>\n",
       "      <td>Family status of the client</td>\n",
       "    </tr>\n",
       "    <tr>\n",
       "      <th>31</th>\n",
       "      <td>gender</td>\n",
       "      <td>Gender of the client</td>\n",
       "    </tr>\n",
       "    <tr>\n",
       "      <th>40</th>\n",
       "      <td>mobilephone_reachable</td>\n",
       "      <td>Was mobile phone reachable (1=YES, 0=NO)</td>\n",
       "    </tr>\n",
       "    <tr>\n",
       "      <th>63</th>\n",
       "      <td>region_rating</td>\n",
       "      <td>Our rating of the region where client lives (1,2,3)</td>\n",
       "    </tr>\n",
       "  </tbody>\n",
       "</table>\n",
       "</div>"
      ],
      "text/plain": [
       "                 New name                                          Description\n",
       "23                car_age                                  Age of client's car\n",
       "29          family_status                          Family status of the client\n",
       "31                 gender                                 Gender of the client\n",
       "40  mobilephone_reachable             Was mobile phone reachable (1=YES, 0=NO)\n",
       "63          region_rating  Our rating of the region where client lives (1,2,3)"
      ]
     },
     "execution_count": 7,
     "metadata": {},
     "output_type": "execute_result"
    }
   ],
   "source": [
    "cols_aux = ['region_rating','mobilephone_reachable','SK_ID_CURR','car_age','family_status','gender']\n",
    "cond_regex = df_columns['New name'].isin(cols_aux)\n",
    "\n",
    "df_columns[cond_regex]"
   ]
  },
  {
   "cell_type": "code",
   "execution_count": 8,
   "metadata": {},
   "outputs": [
    {
     "data": {
      "text/html": [
       "<div>\n",
       "<style scoped>\n",
       "    .dataframe tbody tr th:only-of-type {\n",
       "        vertical-align: middle;\n",
       "    }\n",
       "\n",
       "    .dataframe tbody tr th {\n",
       "        vertical-align: top;\n",
       "    }\n",
       "\n",
       "    .dataframe thead th {\n",
       "        text-align: right;\n",
       "    }\n",
       "</style>\n",
       "<table border=\"1\" class=\"dataframe\">\n",
       "  <thead>\n",
       "    <tr style=\"text-align: right;\">\n",
       "      <th></th>\n",
       "      <th>region_rating</th>\n",
       "      <th>mobilephone_reachable</th>\n",
       "      <th>SK_ID_CURR</th>\n",
       "      <th>car_age</th>\n",
       "      <th>family_status</th>\n",
       "      <th>gender</th>\n",
       "    </tr>\n",
       "  </thead>\n",
       "  <tbody>\n",
       "    <tr>\n",
       "      <th>0</th>\n",
       "      <td>2</td>\n",
       "      <td>1</td>\n",
       "      <td>100002.0</td>\n",
       "      <td>NaN</td>\n",
       "      <td>Single / not married</td>\n",
       "      <td>M</td>\n",
       "    </tr>\n",
       "    <tr>\n",
       "      <th>1</th>\n",
       "      <td>1</td>\n",
       "      <td>1</td>\n",
       "      <td>100003.0</td>\n",
       "      <td>NaN</td>\n",
       "      <td>Married</td>\n",
       "      <td>F</td>\n",
       "    </tr>\n",
       "    <tr>\n",
       "      <th>2</th>\n",
       "      <td>2</td>\n",
       "      <td>1</td>\n",
       "      <td>100004.0</td>\n",
       "      <td>26.0</td>\n",
       "      <td>Single / not married</td>\n",
       "      <td>M</td>\n",
       "    </tr>\n",
       "    <tr>\n",
       "      <th>3</th>\n",
       "      <td>2</td>\n",
       "      <td>1</td>\n",
       "      <td>100006.0</td>\n",
       "      <td>NaN</td>\n",
       "      <td>Civil marriage</td>\n",
       "      <td>F</td>\n",
       "    </tr>\n",
       "    <tr>\n",
       "      <th>4</th>\n",
       "      <td>2</td>\n",
       "      <td>1</td>\n",
       "      <td>100007.0</td>\n",
       "      <td>NaN</td>\n",
       "      <td>Single / not married</td>\n",
       "      <td>M</td>\n",
       "    </tr>\n",
       "  </tbody>\n",
       "</table>\n",
       "</div>"
      ],
      "text/plain": [
       "   region_rating  mobilephone_reachable  SK_ID_CURR  car_age  \\\n",
       "0              2                      1    100002.0      NaN   \n",
       "1              1                      1    100003.0      NaN   \n",
       "2              2                      1    100004.0     26.0   \n",
       "3              2                      1    100006.0      NaN   \n",
       "4              2                      1    100007.0      NaN   \n",
       "\n",
       "          family_status gender  \n",
       "0  Single / not married      M  \n",
       "1               Married      F  \n",
       "2  Single / not married      M  \n",
       "3        Civil marriage      F  \n",
       "4  Single / not married      M  "
      ]
     },
     "execution_count": 8,
     "metadata": {},
     "output_type": "execute_result"
    }
   ],
   "source": [
    "df_loans_processed[cols_aux].head()"
   ]
  },
  {
   "cell_type": "code",
   "execution_count": 9,
   "metadata": {},
   "outputs": [
    {
     "name": "stdout",
     "output_type": "stream",
     "text": [
      "region_rating - 0\n",
      "mobilephone_reachable - 0\n",
      "SK_ID_CURR - 16454\n",
      "car_age - 202929\n",
      "family_status - 0\n",
      "gender - 0\n"
     ]
    }
   ],
   "source": [
    "check_nans(df_loans_processed,cols_aux)\n",
    "cols_drop += ['SK_ID_CURR','car_age']\n"
   ]
  },
  {
   "cell_type": "code",
   "execution_count": 10,
   "metadata": {},
   "outputs": [
    {
     "name": "stdout",
     "output_type": "stream",
     "text": [
      "family_status - ['Single / not married' 'Married' 'Civil marriage' 'Widow' 'Separated'\n",
      " 'Unknown']\n",
      "\n",
      "gender - ['M' 'F' 'XNA']\n",
      "\n",
      "region_rating - [2 1 3]\n",
      "\n",
      "mobilephone_reachable - [1 0]\n",
      "\n"
     ]
    }
   ],
   "source": [
    "cols_unique = ['family_status','gender','region_rating','mobilephone_reachable']\n",
    "check_unique(df_loans_processed,cols_unique)"
   ]
  },
  {
   "cell_type": "code",
   "execution_count": 11,
   "metadata": {},
   "outputs": [
    {
     "name": "stdout",
     "output_type": "stream",
     "text": [
      "gender - ['M' 'F']\n",
      "\n"
     ]
    }
   ],
   "source": [
    "df_loans_processed = df_loans_processed[df_loans_processed.gender != 'XNA']\n",
    "check_unique(df_loans_processed,['gender'])"
   ]
  },
  {
   "cell_type": "markdown",
   "metadata": {},
   "source": [
    "- Labels starting with **'provided_'**"
   ]
  },
  {
   "cell_type": "code",
   "execution_count": 12,
   "metadata": {},
   "outputs": [
    {
     "data": {
      "text/html": [
       "<div>\n",
       "<style scoped>\n",
       "    .dataframe tbody tr th:only-of-type {\n",
       "        vertical-align: middle;\n",
       "    }\n",
       "\n",
       "    .dataframe tbody tr th {\n",
       "        vertical-align: top;\n",
       "    }\n",
       "\n",
       "    .dataframe thead th {\n",
       "        text-align: right;\n",
       "    }\n",
       "</style>\n",
       "<table border=\"1\" class=\"dataframe\">\n",
       "  <thead>\n",
       "    <tr style=\"text-align: right;\">\n",
       "      <th></th>\n",
       "      <th>New name</th>\n",
       "      <th>Description</th>\n",
       "    </tr>\n",
       "  </thead>\n",
       "  <tbody>\n",
       "    <tr>\n",
       "      <th>59</th>\n",
       "      <td>provided_email</td>\n",
       "      <td>Did client provide email (1=YES, 0=NO)</td>\n",
       "    </tr>\n",
       "    <tr>\n",
       "      <th>60</th>\n",
       "      <td>provided_homephone</td>\n",
       "      <td>Did client provide home phone (1=YES, 0=NO)</td>\n",
       "    </tr>\n",
       "    <tr>\n",
       "      <th>61</th>\n",
       "      <td>provided_mobilephone</td>\n",
       "      <td>Did client provide mobile phone (1=YES, 0=NO)</td>\n",
       "    </tr>\n",
       "    <tr>\n",
       "      <th>62</th>\n",
       "      <td>provided_workphone</td>\n",
       "      <td>Did client provide work phone (1=YES, 0=NO)</td>\n",
       "    </tr>\n",
       "  </tbody>\n",
       "</table>\n",
       "</div>"
      ],
      "text/plain": [
       "                New name                                    Description\n",
       "59        provided_email         Did client provide email (1=YES, 0=NO)\n",
       "60    provided_homephone    Did client provide home phone (1=YES, 0=NO)\n",
       "61  provided_mobilephone  Did client provide mobile phone (1=YES, 0=NO)\n",
       "62    provided_workphone    Did client provide work phone (1=YES, 0=NO)"
      ]
     },
     "execution_count": 12,
     "metadata": {},
     "output_type": "execute_result"
    }
   ],
   "source": [
    "regex_provided = 'provided_.*'\n",
    "cond_regex = df_columns['New name'].str.match(regex_provided)\n",
    "cols_aux = df_columns[cond_regex]['New name'].tolist()\n",
    "df_columns[cond_regex]"
   ]
  },
  {
   "cell_type": "code",
   "execution_count": 13,
   "metadata": {},
   "outputs": [
    {
     "name": "stdout",
     "output_type": "stream",
     "text": [
      "provided_email - [0 1]\n",
      "\n",
      "provided_homephone - [0 1]\n",
      "\n",
      "provided_mobilephone - [1 0]\n",
      "\n",
      "provided_workphone - [1 0]\n",
      "\n"
     ]
    }
   ],
   "source": [
    "check_unique(df_loans_processed,cols_aux)"
   ]
  },
  {
   "cell_type": "markdown",
   "metadata": {},
   "source": [
    "- Labels starting with **_type**"
   ]
  },
  {
   "cell_type": "code",
   "execution_count": 14,
   "metadata": {},
   "outputs": [
    {
     "data": {
      "text/html": [
       "<div>\n",
       "<style scoped>\n",
       "    .dataframe tbody tr th:only-of-type {\n",
       "        vertical-align: middle;\n",
       "    }\n",
       "\n",
       "    .dataframe tbody tr th {\n",
       "        vertical-align: top;\n",
       "    }\n",
       "\n",
       "    .dataframe thead th {\n",
       "        text-align: right;\n",
       "    }\n",
       "</style>\n",
       "<table border=\"1\" class=\"dataframe\">\n",
       "  <thead>\n",
       "    <tr style=\"text-align: right;\">\n",
       "      <th></th>\n",
       "      <th>New name</th>\n",
       "      <th>Description</th>\n",
       "    </tr>\n",
       "  </thead>\n",
       "  <tbody>\n",
       "    <tr>\n",
       "      <th>24</th>\n",
       "      <td>contract_type</td>\n",
       "      <td>Identification if loan is cash or revolving</td>\n",
       "    </tr>\n",
       "    <tr>\n",
       "      <th>35</th>\n",
       "      <td>housing_type</td>\n",
       "      <td>What is the housing situation of the client (renting, living with parents, ...)</td>\n",
       "    </tr>\n",
       "    <tr>\n",
       "      <th>36</th>\n",
       "      <td>income_type</td>\n",
       "      <td>Clients income type (businessman, working, maternity leave,…)</td>\n",
       "    </tr>\n",
       "    <tr>\n",
       "      <th>49</th>\n",
       "      <td>occupation_type</td>\n",
       "      <td>What kind of occupation does the client have</td>\n",
       "    </tr>\n",
       "    <tr>\n",
       "      <th>50</th>\n",
       "      <td>organization_type</td>\n",
       "      <td>Type of organization where client works</td>\n",
       "    </tr>\n",
       "  </tbody>\n",
       "</table>\n",
       "</div>"
      ],
      "text/plain": [
       "             New name  \\\n",
       "24      contract_type   \n",
       "35       housing_type   \n",
       "36        income_type   \n",
       "49    occupation_type   \n",
       "50  organization_type   \n",
       "\n",
       "                                                                        Description  \n",
       "24                                      Identification if loan is cash or revolving  \n",
       "35  What is the housing situation of the client (renting, living with parents, ...)  \n",
       "36                    Clients income type (businessman, working, maternity leave,…)  \n",
       "49                                     What kind of occupation does the client have  \n",
       "50                                          Type of organization where client works  "
      ]
     },
     "execution_count": 14,
     "metadata": {},
     "output_type": "execute_result"
    }
   ],
   "source": [
    "regex_type = '.*_type'\n",
    "cond_regex = df_columns['New name'].str.match(regex_type)\n",
    "cols_aux = df_columns[cond_regex]['New name'].tolist()\n",
    "df_columns[cond_regex]"
   ]
  },
  {
   "cell_type": "code",
   "execution_count": 15,
   "metadata": {},
   "outputs": [
    {
     "name": "stdout",
     "output_type": "stream",
     "text": [
      "contract_type - ['Cash loans' 'Revolving loans']\n",
      "\n",
      "housing_type - ['House / apartment' 'Rented apartment' 'With parents'\n",
      " 'Municipal apartment' 'Office apartment' 'Co-op apartment']\n",
      "\n",
      "income_type - ['Working' 'State servant' 'Commercial associate' 'Pensioner' 'Unemployed'\n",
      " 'Student' 'Businessman' 'Maternity leave']\n",
      "\n",
      "occupation_type - ['Laborers' 'Core staff' 'Accountants' 'Managers' nan 'Drivers'\n",
      " 'Sales staff' 'Cleaning staff' 'Cooking staff' 'Private service staff'\n",
      " 'Medicine staff' 'Security staff' 'High skill tech staff'\n",
      " 'Waiters/barmen staff' 'Low-skill Laborers' 'Realty agents' 'Secretaries'\n",
      " 'IT staff' 'HR staff']\n",
      "\n",
      "organization_type - ['Business Entity Type 3' 'School' 'Government' 'Religion' 'Other' 'XNA'\n",
      " 'Electricity' 'Medicine' 'Business Entity Type 2' 'Self-employed'\n",
      " 'Transport: type 2' 'Construction' 'Housing' 'Kindergarten'\n",
      " 'Trade: type 7' 'Industry: type 11' 'Military' 'Services'\n",
      " 'Security Ministries' 'Transport: type 4' 'Industry: type 1' 'Emergency'\n",
      " 'Security' 'Trade: type 2' 'University' 'Transport: type 3' 'Police'\n",
      " 'Business Entity Type 1' 'Postal' 'Industry: type 4' 'Agriculture'\n",
      " 'Restaurant' 'Culture' 'Hotel' 'Industry: type 7' 'Trade: type 3'\n",
      " 'Industry: type 3' 'Bank' 'Industry: type 9' 'Insurance' 'Trade: type 6'\n",
      " 'Industry: type 2' 'Transport: type 1' 'Industry: type 12' 'Mobile'\n",
      " 'Trade: type 1' 'Industry: type 5' 'Industry: type 10' 'Legal Services'\n",
      " 'Advertising' 'Trade: type 5' 'Cleaning' 'Industry: type 13'\n",
      " 'Trade: type 4' 'Telecom' 'Industry: type 8' 'Realtor' 'Industry: type 6']\n",
      "\n",
      "contract_type - 0\n",
      "housing_type - 0\n",
      "income_type - 0\n",
      "occupation_type - 96389\n",
      "organization_type - 0\n"
     ]
    }
   ],
   "source": [
    "check_unique(df_loans_processed,cols_aux)\n",
    "check_nans(df_loans_processed,cols_aux)"
   ]
  },
  {
   "cell_type": "code",
   "execution_count": 16,
   "metadata": {},
   "outputs": [
    {
     "name": "stdout",
     "output_type": "stream",
     "text": [
      "organization_type - ['Business Entity Type 3' 'School' 'Government' 'Religion' 'Other'\n",
      " 'Electricity' 'Medicine' 'Business Entity Type 2' 'Self-employed'\n",
      " 'Transport: type 2' 'Construction' 'Housing' 'Kindergarten'\n",
      " 'Trade: type 7' 'Industry: type 11' 'Military' 'Services'\n",
      " 'Security Ministries' 'Transport: type 4' 'Industry: type 1' 'Emergency'\n",
      " 'Security' 'Trade: type 2' 'University' 'Transport: type 3' 'Police'\n",
      " 'Business Entity Type 1' 'Postal' 'Industry: type 4' 'Agriculture'\n",
      " 'Restaurant' 'Culture' 'Hotel' 'Industry: type 7' 'Trade: type 3'\n",
      " 'Industry: type 3' 'Bank' 'Industry: type 9' 'Insurance' 'Trade: type 6'\n",
      " 'Industry: type 2' 'Transport: type 1' 'Industry: type 12' 'Mobile'\n",
      " 'Trade: type 1' 'Industry: type 5' 'Industry: type 10' 'Legal Services'\n",
      " 'Advertising' 'Trade: type 5' 'Cleaning' 'Industry: type 13'\n",
      " 'Trade: type 4' 'Telecom' 'Industry: type 8' 'Realtor' 'Industry: type 6']\n",
      "\n"
     ]
    }
   ],
   "source": [
    "df_loans_processed = df_loans_processed[df_loans_processed['organization_type'] != 'XNA']\n",
    "check_unique(df_loans_processed,['organization_type'])"
   ]
  },
  {
   "cell_type": "markdown",
   "metadata": {},
   "source": [
    "- Labels starting with **has**"
   ]
  },
  {
   "cell_type": "code",
   "execution_count": 17,
   "metadata": {},
   "outputs": [
    {
     "data": {
      "text/html": [
       "<div>\n",
       "<style scoped>\n",
       "    .dataframe tbody tr th:only-of-type {\n",
       "        vertical-align: middle;\n",
       "    }\n",
       "\n",
       "    .dataframe tbody tr th {\n",
       "        vertical-align: top;\n",
       "    }\n",
       "\n",
       "    .dataframe thead th {\n",
       "        text-align: right;\n",
       "    }\n",
       "</style>\n",
       "<table border=\"1\" class=\"dataframe\">\n",
       "  <thead>\n",
       "    <tr style=\"text-align: right;\">\n",
       "      <th></th>\n",
       "      <th>New name</th>\n",
       "      <th>Description</th>\n",
       "    </tr>\n",
       "  </thead>\n",
       "  <tbody>\n",
       "    <tr>\n",
       "      <th>33</th>\n",
       "      <td>has_own_car</td>\n",
       "      <td>Flag if the client owns a car</td>\n",
       "    </tr>\n",
       "    <tr>\n",
       "      <th>34</th>\n",
       "      <td>has_own_realty</td>\n",
       "      <td>Flag if client owns a house or flat</td>\n",
       "    </tr>\n",
       "  </tbody>\n",
       "</table>\n",
       "</div>"
      ],
      "text/plain": [
       "          New name                          Description\n",
       "33     has_own_car        Flag if the client owns a car\n",
       "34  has_own_realty  Flag if client owns a house or flat"
      ]
     },
     "execution_count": 17,
     "metadata": {},
     "output_type": "execute_result"
    }
   ],
   "source": [
    "regex_has = 'has.*'\n",
    "df_columns[df_columns['New name'].str.match(regex_has)]"
   ]
  },
  {
   "cell_type": "code",
   "execution_count": 18,
   "metadata": {},
   "outputs": [
    {
     "name": "stdout",
     "output_type": "stream",
     "text": [
      "has_own_car - ['N' 'Y']\n",
      "\n",
      "has_own_realty - ['Y' 'N']\n",
      "\n"
     ]
    }
   ],
   "source": [
    "df_has = df_loans_processed.filter(regex= (regex_has))\n",
    "check_unique(df_has)"
   ]
  },
  {
   "cell_type": "markdown",
   "metadata": {},
   "source": [
    "- Labels starting with **score**"
   ]
  },
  {
   "cell_type": "code",
   "execution_count": 19,
   "metadata": {},
   "outputs": [
    {
     "data": {
      "text/html": [
       "<div>\n",
       "<style scoped>\n",
       "    .dataframe tbody tr th:only-of-type {\n",
       "        vertical-align: middle;\n",
       "    }\n",
       "\n",
       "    .dataframe tbody tr th {\n",
       "        vertical-align: top;\n",
       "    }\n",
       "\n",
       "    .dataframe thead th {\n",
       "        text-align: right;\n",
       "    }\n",
       "</style>\n",
       "<table border=\"1\" class=\"dataframe\">\n",
       "  <thead>\n",
       "    <tr style=\"text-align: right;\">\n",
       "      <th></th>\n",
       "      <th>New name</th>\n",
       "      <th>Description</th>\n",
       "    </tr>\n",
       "  </thead>\n",
       "  <tbody>\n",
       "    <tr>\n",
       "      <th>64</th>\n",
       "      <td>score_ext_1</td>\n",
       "      <td>Normalized score from external data source</td>\n",
       "    </tr>\n",
       "    <tr>\n",
       "      <th>65</th>\n",
       "      <td>score_ext_2</td>\n",
       "      <td>Normalized score from external data source</td>\n",
       "    </tr>\n",
       "    <tr>\n",
       "      <th>66</th>\n",
       "      <td>score_ext_3</td>\n",
       "      <td>Normalized score from external data source</td>\n",
       "    </tr>\n",
       "  </tbody>\n",
       "</table>\n",
       "</div>"
      ],
      "text/plain": [
       "       New name                                 Description\n",
       "64  score_ext_1  Normalized score from external data source\n",
       "65  score_ext_2  Normalized score from external data source\n",
       "66  score_ext_3  Normalized score from external data source"
      ]
     },
     "execution_count": 19,
     "metadata": {},
     "output_type": "execute_result"
    }
   ],
   "source": [
    "regex_score = 'score.*'\n",
    "df_columns[df_columns['New name'].str.match(regex_score)]"
   ]
  },
  {
   "cell_type": "code",
   "execution_count": 20,
   "metadata": {},
   "outputs": [
    {
     "data": {
      "text/html": [
       "<div>\n",
       "<style scoped>\n",
       "    .dataframe tbody tr th:only-of-type {\n",
       "        vertical-align: middle;\n",
       "    }\n",
       "\n",
       "    .dataframe tbody tr th {\n",
       "        vertical-align: top;\n",
       "    }\n",
       "\n",
       "    .dataframe thead th {\n",
       "        text-align: right;\n",
       "    }\n",
       "</style>\n",
       "<table border=\"1\" class=\"dataframe\">\n",
       "  <thead>\n",
       "    <tr style=\"text-align: right;\">\n",
       "      <th></th>\n",
       "      <th>score_ext_1</th>\n",
       "      <th>score_ext_2</th>\n",
       "      <th>score_ext_3</th>\n",
       "    </tr>\n",
       "  </thead>\n",
       "  <tbody>\n",
       "    <tr>\n",
       "      <th>0</th>\n",
       "      <td>0.083037</td>\n",
       "      <td>0.262949</td>\n",
       "      <td>0.139376</td>\n",
       "    </tr>\n",
       "    <tr>\n",
       "      <th>1</th>\n",
       "      <td>0.311267</td>\n",
       "      <td>0.622246</td>\n",
       "      <td>NaN</td>\n",
       "    </tr>\n",
       "    <tr>\n",
       "      <th>2</th>\n",
       "      <td>NaN</td>\n",
       "      <td>0.555912</td>\n",
       "      <td>0.729567</td>\n",
       "    </tr>\n",
       "    <tr>\n",
       "      <th>3</th>\n",
       "      <td>NaN</td>\n",
       "      <td>0.650442</td>\n",
       "      <td>NaN</td>\n",
       "    </tr>\n",
       "    <tr>\n",
       "      <th>4</th>\n",
       "      <td>NaN</td>\n",
       "      <td>0.322738</td>\n",
       "      <td>NaN</td>\n",
       "    </tr>\n",
       "  </tbody>\n",
       "</table>\n",
       "</div>"
      ],
      "text/plain": [
       "   score_ext_1  score_ext_2  score_ext_3\n",
       "0     0.083037     0.262949     0.139376\n",
       "1     0.311267     0.622246          NaN\n",
       "2          NaN     0.555912     0.729567\n",
       "3          NaN     0.650442          NaN\n",
       "4          NaN     0.322738          NaN"
      ]
     },
     "execution_count": 20,
     "metadata": {},
     "output_type": "execute_result"
    }
   ],
   "source": [
    "df_score = df_loans_processed.filter(regex= (regex_score))\n",
    "df_score.head()"
   ]
  },
  {
   "cell_type": "code",
   "execution_count": 21,
   "metadata": {},
   "outputs": [
    {
     "name": "stdout",
     "output_type": "stream",
     "text": [
      "score_ext_1 - 130859\n",
      "score_ext_2 - 504\n",
      "score_ext_3 - 49896\n"
     ]
    }
   ],
   "source": [
    "check_nans(df_score)\n",
    "cols_drop += df_score.columns.tolist()"
   ]
  },
  {
   "cell_type": "markdown",
   "metadata": {},
   "source": [
    "- Labels starting with **appendix**"
   ]
  },
  {
   "cell_type": "code",
   "execution_count": 22,
   "metadata": {},
   "outputs": [
    {
     "data": {
      "text/html": [
       "<div>\n",
       "<style scoped>\n",
       "    .dataframe tbody tr th:only-of-type {\n",
       "        vertical-align: middle;\n",
       "    }\n",
       "\n",
       "    .dataframe tbody tr th {\n",
       "        vertical-align: top;\n",
       "    }\n",
       "\n",
       "    .dataframe thead th {\n",
       "        text-align: right;\n",
       "    }\n",
       "</style>\n",
       "<table border=\"1\" class=\"dataframe\">\n",
       "  <thead>\n",
       "    <tr style=\"text-align: right;\">\n",
       "      <th></th>\n",
       "      <th>New name</th>\n",
       "      <th>Description</th>\n",
       "    </tr>\n",
       "  </thead>\n",
       "  <tbody>\n",
       "    <tr>\n",
       "      <th>3</th>\n",
       "      <td>appendix_a</td>\n",
       "      <td>Did client provide document 2</td>\n",
       "    </tr>\n",
       "    <tr>\n",
       "      <th>4</th>\n",
       "      <td>appendix_b</td>\n",
       "      <td>Did client provide document 3</td>\n",
       "    </tr>\n",
       "    <tr>\n",
       "      <th>5</th>\n",
       "      <td>appendix_c</td>\n",
       "      <td>Did client provide document 4</td>\n",
       "    </tr>\n",
       "    <tr>\n",
       "      <th>6</th>\n",
       "      <td>appendix_d</td>\n",
       "      <td>Did client provide document 5</td>\n",
       "    </tr>\n",
       "    <tr>\n",
       "      <th>7</th>\n",
       "      <td>appendix_e</td>\n",
       "      <td>Did client provide document 6</td>\n",
       "    </tr>\n",
       "  </tbody>\n",
       "</table>\n",
       "</div>"
      ],
      "text/plain": [
       "     New name                    Description\n",
       "3  appendix_a  Did client provide document 2\n",
       "4  appendix_b  Did client provide document 3\n",
       "5  appendix_c  Did client provide document 4\n",
       "6  appendix_d  Did client provide document 5\n",
       "7  appendix_e  Did client provide document 6"
      ]
     },
     "execution_count": 22,
     "metadata": {},
     "output_type": "execute_result"
    }
   ],
   "source": [
    "regex_appendix = 'appendix.*'\n",
    "df_columns[df_columns['New name'].str.match(regex_appendix)].head()"
   ]
  },
  {
   "cell_type": "code",
   "execution_count": 23,
   "metadata": {},
   "outputs": [
    {
     "name": "stdout",
     "output_type": "stream",
     "text": [
      "appendix_a - [0 1]\n",
      "\n",
      "appendix_b - [1 0]\n",
      "\n",
      "appendix_c - [0 1]\n",
      "\n",
      "appendix_d - [0 1]\n",
      "\n",
      "appendix_e - [0 1]\n",
      "\n",
      "appendix_f - [0 1]\n",
      "\n",
      "appendix_g - [0 1]\n",
      "\n",
      "appendix_h - [0 1]\n",
      "\n",
      "appendix_i - [0 1]\n",
      "\n",
      "appendix_j - [0 1]\n",
      "\n",
      "appendix_k - [0 1]\n",
      "\n",
      "appendix_l - [0 1]\n",
      "\n",
      "appendix_m - [0 1]\n",
      "\n",
      "appendix_n - [0 1]\n",
      "\n",
      "appendix_o - [0 1]\n",
      "\n",
      "appendix_p - [0 1]\n",
      "\n",
      "appendix_q - [0 1]\n",
      "\n",
      "appendix_r - [0 1]\n",
      "\n",
      "appendix_s - [0 1]\n",
      "\n",
      "appendix_t - [0 1]\n",
      "\n"
     ]
    }
   ],
   "source": [
    "df_appendix = df_loans_processed.filter(regex= (regex_appendix))\n",
    "check_unique(df_appendix)"
   ]
  },
  {
   "cell_type": "markdown",
   "metadata": {},
   "source": [
    "- Labels starting with **num_**"
   ]
  },
  {
   "cell_type": "code",
   "execution_count": 24,
   "metadata": {},
   "outputs": [
    {
     "data": {
      "text/html": [
       "<div>\n",
       "<style scoped>\n",
       "    .dataframe tbody tr th:only-of-type {\n",
       "        vertical-align: middle;\n",
       "    }\n",
       "\n",
       "    .dataframe tbody tr th {\n",
       "        vertical-align: top;\n",
       "    }\n",
       "\n",
       "    .dataframe thead th {\n",
       "        text-align: right;\n",
       "    }\n",
       "</style>\n",
       "<table border=\"1\" class=\"dataframe\">\n",
       "  <thead>\n",
       "    <tr style=\"text-align: right;\">\n",
       "      <th></th>\n",
       "      <th>New name</th>\n",
       "      <th>Description</th>\n",
       "    </tr>\n",
       "  </thead>\n",
       "  <tbody>\n",
       "    <tr>\n",
       "      <th>41</th>\n",
       "      <td>num_children</td>\n",
       "      <td>Number of children the client has</td>\n",
       "    </tr>\n",
       "    <tr>\n",
       "      <th>42</th>\n",
       "      <td>num_family_members</td>\n",
       "      <td>How many family members does client have</td>\n",
       "    </tr>\n",
       "    <tr>\n",
       "      <th>43</th>\n",
       "      <td>num_req_bureau_day</td>\n",
       "      <td>Number of enquiries to Credit Bureau about the client one day before application (excluding one hour before application)</td>\n",
       "    </tr>\n",
       "    <tr>\n",
       "      <th>44</th>\n",
       "      <td>num_req_bureau_hour</td>\n",
       "      <td>Number of enquiries to Credit Bureau about the client one hour before application</td>\n",
       "    </tr>\n",
       "    <tr>\n",
       "      <th>45</th>\n",
       "      <td>num_req_bureau_month</td>\n",
       "      <td>Number of enquiries to Credit Bureau about the client one month before application (excluding one week before application)</td>\n",
       "    </tr>\n",
       "    <tr>\n",
       "      <th>46</th>\n",
       "      <td>num_req_bureau_qrt</td>\n",
       "      <td>Number of enquiries to Credit Bureau about the client 3 month before application (excluding one month before application)</td>\n",
       "    </tr>\n",
       "    <tr>\n",
       "      <th>47</th>\n",
       "      <td>num_req_bureau_week</td>\n",
       "      <td>Number of enquiries to Credit Bureau about the client one week before application (excluding one day before application)</td>\n",
       "    </tr>\n",
       "    <tr>\n",
       "      <th>48</th>\n",
       "      <td>num_req_bureau_year</td>\n",
       "      <td>Number of enquiries to Credit Bureau about the client one day year (excluding last 3 months before application)</td>\n",
       "    </tr>\n",
       "  </tbody>\n",
       "</table>\n",
       "</div>"
      ],
      "text/plain": [
       "                New name  \\\n",
       "41          num_children   \n",
       "42    num_family_members   \n",
       "43    num_req_bureau_day   \n",
       "44   num_req_bureau_hour   \n",
       "45  num_req_bureau_month   \n",
       "46    num_req_bureau_qrt   \n",
       "47   num_req_bureau_week   \n",
       "48   num_req_bureau_year   \n",
       "\n",
       "                                                                                                                   Description  \n",
       "41                                                                                           Number of children the client has  \n",
       "42                                                                                    How many family members does client have  \n",
       "43    Number of enquiries to Credit Bureau about the client one day before application (excluding one hour before application)  \n",
       "44                                           Number of enquiries to Credit Bureau about the client one hour before application  \n",
       "45  Number of enquiries to Credit Bureau about the client one month before application (excluding one week before application)  \n",
       "46   Number of enquiries to Credit Bureau about the client 3 month before application (excluding one month before application)  \n",
       "47    Number of enquiries to Credit Bureau about the client one week before application (excluding one day before application)  \n",
       "48             Number of enquiries to Credit Bureau about the client one day year (excluding last 3 months before application)  "
      ]
     },
     "execution_count": 24,
     "metadata": {},
     "output_type": "execute_result"
    }
   ],
   "source": [
    "regex_num = 'num_.*'\n",
    "df_columns[df_columns['New name'].str.match(regex_num)]"
   ]
  },
  {
   "cell_type": "code",
   "execution_count": 25,
   "metadata": {},
   "outputs": [
    {
     "name": "stdout",
     "output_type": "stream",
     "text": [
      "num_children - [ 0  1  2  3  4  7  5  6  8  9 11 12 10 19 14]\n",
      "\n",
      "num_family_members - [ 1.  2.  3.  4.  5.  6.  9.  7.  8. 10. 13. nan 14. 12. 20. 15. 16. 11.]\n",
      "\n",
      "num_req_bureau_hour - [ 0. nan  1.  2.  3.  4.]\n",
      "\n",
      "num_req_bureau_day - [ 0. nan  1.  3.  2.  4.  5.  6.  9.]\n",
      "\n",
      "num_req_bureau_week - [ 0. nan  1.  3.  2.  4.  5.  6.  8.  7.]\n",
      "\n",
      "num_req_bureau_month - [ 0. nan  1.  2.  6.  3.  5.  7.  9.  4. 11.  8. 16. 12. 14. 10. 13. 17.\n",
      " 24. 19. 15. 23. 18. 27.]\n",
      "\n",
      "num_req_bureau_qrt - [  0.  nan   1.   2.   4.   3.   8.   5.   6.   7. 261.  19.]\n",
      "\n",
      "num_req_bureau_year - [ 1.  0. nan  2.  4.  5.  3.  8.  6.  9.  7. 10. 11. 16. 12. 23. 15. 14.\n",
      " 22. 17. 13. 21. 19.]\n",
      "\n",
      "num_children - 0\n",
      "num_family_members - 2\n",
      "num_req_bureau_hour - 33856\n",
      "num_req_bureau_day - 33856\n",
      "num_req_bureau_week - 33856\n",
      "num_req_bureau_month - 33856\n",
      "num_req_bureau_qrt - 33856\n",
      "num_req_bureau_year - 33856\n"
     ]
    }
   ],
   "source": [
    "df_num = df_loans_processed.filter(regex= (regex_num))\n",
    "check_unique(df_num)\n",
    "check_nans(df_num)\n",
    "\n",
    "cols_drop += ['num_req_bureau_hour']"
   ]
  },
  {
   "cell_type": "markdown",
   "metadata": {},
   "source": [
    "- Labels starting with **past_loans**"
   ]
  },
  {
   "cell_type": "code",
   "execution_count": 26,
   "metadata": {},
   "outputs": [
    {
     "data": {
      "text/html": [
       "<div>\n",
       "<style scoped>\n",
       "    .dataframe tbody tr th:only-of-type {\n",
       "        vertical-align: middle;\n",
       "    }\n",
       "\n",
       "    .dataframe tbody tr th {\n",
       "        vertical-align: top;\n",
       "    }\n",
       "\n",
       "    .dataframe thead th {\n",
       "        text-align: right;\n",
       "    }\n",
       "</style>\n",
       "<table border=\"1\" class=\"dataframe\">\n",
       "  <thead>\n",
       "    <tr style=\"text-align: right;\">\n",
       "      <th></th>\n",
       "      <th>New name</th>\n",
       "      <th>Description</th>\n",
       "    </tr>\n",
       "  </thead>\n",
       "  <tbody>\n",
       "    <tr>\n",
       "      <th>54</th>\n",
       "      <td>past_loans_approved</td>\n",
       "      <td>Number of loans approved in the past for the client</td>\n",
       "    </tr>\n",
       "    <tr>\n",
       "      <th>55</th>\n",
       "      <td>past_loans_canceled</td>\n",
       "      <td>Number of loans canceled in the past for the client</td>\n",
       "    </tr>\n",
       "    <tr>\n",
       "      <th>56</th>\n",
       "      <td>past_loans_refused</td>\n",
       "      <td>Number of loans refused in the past for the client</td>\n",
       "    </tr>\n",
       "    <tr>\n",
       "      <th>57</th>\n",
       "      <td>past_loans_total</td>\n",
       "      <td>Number of loans in the past for the client, regardless of the outcome</td>\n",
       "    </tr>\n",
       "    <tr>\n",
       "      <th>58</th>\n",
       "      <td>past_loans_unused</td>\n",
       "      <td>Number of loans approved but not used in the past for the client</td>\n",
       "    </tr>\n",
       "  </tbody>\n",
       "</table>\n",
       "</div>"
      ],
      "text/plain": [
       "               New name  \\\n",
       "54  past_loans_approved   \n",
       "55  past_loans_canceled   \n",
       "56   past_loans_refused   \n",
       "57     past_loans_total   \n",
       "58    past_loans_unused   \n",
       "\n",
       "                                                              Description  \n",
       "54                    Number of loans approved in the past for the client  \n",
       "55                    Number of loans canceled in the past for the client  \n",
       "56                     Number of loans refused in the past for the client  \n",
       "57  Number of loans in the past for the client, regardless of the outcome  \n",
       "58       Number of loans approved but not used in the past for the client  "
      ]
     },
     "execution_count": 26,
     "metadata": {},
     "output_type": "execute_result"
    }
   ],
   "source": [
    "regex_past = 'past_loans.*'\n",
    "df_columns[df_columns['New name'].str.match(regex_past)]"
   ]
  },
  {
   "cell_type": "code",
   "execution_count": 27,
   "metadata": {},
   "outputs": [
    {
     "name": "stdout",
     "output_type": "stream",
     "text": [
      "past_loans_approved - [ 1.  3.  5.  6.  4.  7.  2. nan  8. 12.  0.  9. 10. 13. 15. 11. 17. 16.\n",
      " 14. 18. 19. 23. 20. 24. 22. 27. 21.]\n",
      "\n",
      "past_loans_refused - [ 0.  3.  1. nan  6.  2.  4.  5. 10. 11.  8.  7.  9. 12. 21. 13. 15. 14.\n",
      " 24. 18. 17. 16. 20. 22. 19. 57. 25. 34. 28. 44. 51. 23. 27. 40. 31. 26.\n",
      " 38. 58. 30. 52.]\n",
      "\n",
      "past_loans_canceled - [ 0.  1. nan 10.  8.  3.  2.  5.  4. 12.  9.  7.  6. 11. 20. 16. 15. 13.\n",
      " 17. 19. 18. 14. 32. 23. 30. 21. 25. 24. 31. 37. 58. 22. 26. 28. 36. 27.\n",
      " 33. 29. 47. 39. 68. 43. 41. 35. 54. 34. 51.]\n",
      "\n",
      "past_loans_unused - [ 0. nan  1.  3.  2.  4.  5.  6.  8.  7. 16. 10.]\n",
      "\n",
      "past_loans_total - [ 1.  3.  9.  6.  5.  7.  4.  2. nan  8. 12. 22. 18. 10. 26. 11. 15. 14.\n",
      " 13. 17. 16. 23. 24. 27. 20. 19. 21. 35. 29. 25. 31. 33. 50. 28. 36. 32.\n",
      " 46. 41. 58. 37. 40. 43. 39. 30. 34. 60. 38. 42. 72. 44. 52. 63. 55. 67.\n",
      " 61. 68. 59. 73. 49. 47. 54. 51. 62. 64. 45. 53.]\n",
      "\n",
      "past_loans_approved - 16454\n",
      "past_loans_refused - 16454\n",
      "past_loans_canceled - 16454\n",
      "past_loans_unused - 16454\n",
      "past_loans_total - 16454\n"
     ]
    }
   ],
   "source": [
    "df_past_loans = df_loans.filter(regex= (regex_past))\n",
    "check_unique(df_past_loans)\n",
    "check_nans(df_past_loans)"
   ]
  },
  {
   "cell_type": "code",
   "execution_count": 28,
   "metadata": {},
   "outputs": [
    {
     "name": "stdout",
     "output_type": "stream",
     "text": [
      "Rows of raw data: 307511\n",
      "Rows of cleaned data: 206416\n"
     ]
    }
   ],
   "source": [
    "cols_int = df_past_loans.columns.values.tolist() + df_num.columns.values.tolist() \n",
    "cols_clean = cols_int\n",
    "df_loans_processed.dropna(subset=cols_clean, inplace=True)\n",
    "print(f'Rows of raw data: {df_loans.shape[0]}\\nRows of cleaned data: {df_loans_processed.shape[0]}')"
   ]
  },
  {
   "cell_type": "code",
   "execution_count": 29,
   "metadata": {},
   "outputs": [
    {
     "data": {
      "text/plain": [
       "60"
      ]
     },
     "execution_count": 29,
     "metadata": {},
     "output_type": "execute_result"
    }
   ],
   "source": [
    "df_loans_processed = df_loans_processed.drop(columns = cols_drop)\n",
    "df_loans_processed.shape[1]"
   ]
  },
  {
   "cell_type": "code",
   "execution_count": 30,
   "metadata": {},
   "outputs": [
    {
     "name": "stdout",
     "output_type": "stream",
     "text": [
      "Rows: 206416\n"
     ]
    }
   ],
   "source": [
    "max_nans = 3\n",
    "df_loans_processed = df_loans_processed[df_loans_processed.isnull().sum(axis=1) < max_nans]\n",
    "print(f'Rows: {df_loans_processed.shape[0]}')"
   ]
  },
  {
   "cell_type": "markdown",
   "metadata": {},
   "source": [
    "#### Data Type Transformation"
   ]
  },
  {
   "cell_type": "code",
   "execution_count": 31,
   "metadata": {},
   "outputs": [
    {
     "ename": "KeyError",
     "evalue": "\"Only a column name can be used for the key in a dtype mappings argument. 'num_req_bureau_hour' not found in columns.\"",
     "output_type": "error",
     "traceback": [
      "\u001b[0;31m---------------------------------------------------------------------------\u001b[0m",
      "\u001b[0;31mKeyError\u001b[0m                                  Traceback (most recent call last)",
      "\u001b[1;32m/home/therealalex/Desktop/MECD/SP/SP Assignments/security-privacy/notebooks/pre-processing.ipynb Cell 44\u001b[0m in \u001b[0;36m<cell line: 1>\u001b[0;34m()\u001b[0m\n\u001b[0;32m----> <a href='vscode-notebook-cell:/home/therealalex/Desktop/MECD/SP/SP%20Assignments/security-privacy/notebooks/pre-processing.ipynb#X61sZmlsZQ%3D%3D?line=0'>1</a>\u001b[0m df_loans_processed \u001b[39m=\u001b[39m df_loans_processed\u001b[39m.\u001b[39;49mastype({col:\u001b[39m'\u001b[39;49m\u001b[39mint64\u001b[39;49m\u001b[39m'\u001b[39;49m \u001b[39mfor\u001b[39;49;00m col \u001b[39min\u001b[39;49;00m cols_int})\n\u001b[1;32m      <a href='vscode-notebook-cell:/home/therealalex/Desktop/MECD/SP/SP%20Assignments/security-privacy/notebooks/pre-processing.ipynb#X61sZmlsZQ%3D%3D?line=1'>2</a>\u001b[0m df_loans_processed[cols_int]\n",
      "File \u001b[0;32m~/anaconda3/envs/privacy_ml/lib/python3.9/site-packages/pandas/core/generic.py:6217\u001b[0m, in \u001b[0;36mNDFrame.astype\u001b[0;34m(self, dtype, copy, errors)\u001b[0m\n\u001b[1;32m   6215\u001b[0m \u001b[39mfor\u001b[39;00m col_name \u001b[39min\u001b[39;00m dtype_ser\u001b[39m.\u001b[39mindex:\n\u001b[1;32m   6216\u001b[0m     \u001b[39mif\u001b[39;00m col_name \u001b[39mnot\u001b[39;00m \u001b[39min\u001b[39;00m \u001b[39mself\u001b[39m:\n\u001b[0;32m-> 6217\u001b[0m         \u001b[39mraise\u001b[39;00m \u001b[39mKeyError\u001b[39;00m(\n\u001b[1;32m   6218\u001b[0m             \u001b[39m\"\u001b[39m\u001b[39mOnly a column name can be used for the \u001b[39m\u001b[39m\"\u001b[39m\n\u001b[1;32m   6219\u001b[0m             \u001b[39m\"\u001b[39m\u001b[39mkey in a dtype mappings argument. \u001b[39m\u001b[39m\"\u001b[39m\n\u001b[1;32m   6220\u001b[0m             \u001b[39mf\u001b[39m\u001b[39m\"\u001b[39m\u001b[39m'\u001b[39m\u001b[39m{\u001b[39;00mcol_name\u001b[39m}\u001b[39;00m\u001b[39m'\u001b[39m\u001b[39m not found in columns.\u001b[39m\u001b[39m\"\u001b[39m\n\u001b[1;32m   6221\u001b[0m         )\n\u001b[1;32m   6223\u001b[0m dtype_ser \u001b[39m=\u001b[39m dtype_ser\u001b[39m.\u001b[39mreindex(\u001b[39mself\u001b[39m\u001b[39m.\u001b[39mcolumns, fill_value\u001b[39m=\u001b[39m\u001b[39mNone\u001b[39;00m, copy\u001b[39m=\u001b[39m\u001b[39mFalse\u001b[39;00m)\n\u001b[1;32m   6225\u001b[0m results \u001b[39m=\u001b[39m []\n",
      "\u001b[0;31mKeyError\u001b[0m: \"Only a column name can be used for the key in a dtype mappings argument. 'num_req_bureau_hour' not found in columns.\""
     ]
    }
   ],
   "source": [
    "df_loans_processed = df_loans_processed.astype({col:'int64' for col in cols_int})\n",
    "df_loans_processed[cols_int]"
   ]
  },
  {
   "cell_type": "markdown",
   "metadata": {},
   "source": [
    "#### State of the data after processed"
   ]
  },
  {
   "cell_type": "code",
   "execution_count": null,
   "metadata": {},
   "outputs": [],
   "source": [
    "df_loans_processed.info()\n",
    "df_loans_processed.to_csv(DIR_DATA+'infringment_processed.csv')"
   ]
  }
 ],
 "metadata": {
  "kernelspec": {
   "display_name": "Python 3.9.0 ('privacy_ml')",
   "language": "python",
   "name": "python3"
  },
  "language_info": {
   "codemirror_mode": {
    "name": "ipython",
    "version": 3
   },
   "file_extension": ".py",
   "mimetype": "text/x-python",
   "name": "python",
   "nbconvert_exporter": "python",
   "pygments_lexer": "ipython3",
   "version": "3.9.13"
  },
  "orig_nbformat": 4,
  "vscode": {
   "interpreter": {
    "hash": "02d888a284c187bf482916b0c94b716276c7bf27434aeb274f1ca7bf16388a6f"
   }
  }
 },
 "nbformat": 4,
 "nbformat_minor": 2
}
