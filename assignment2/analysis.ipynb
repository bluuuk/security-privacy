{
 "cells": [
  {
   "cell_type": "markdown",
   "metadata": {},
   "source": [
    "# Results Analysis"
   ]
  },
  {
   "cell_type": "code",
   "execution_count": 40,
   "metadata": {},
   "outputs": [],
   "source": [
    "import pandas as pd\n",
    "import matplotlib.pyplot as plt\n",
    "import numpy as np\n",
    "\n",
    "df_count = pd.read_csv('dp_count.csv')\n",
    "df_sum = pd.read_csv('dp_sum.csv')\n",
    "df_mean = pd.read_csv('dp_mean.csv')\n",
    "\n",
    "epsilons = [0.01,0.2,np.log(2),np.log(3)]\n"
   ]
  },
  {
   "cell_type": "markdown",
   "metadata": {},
   "source": [
    "## Epsilon Analysis\n",
    "### Count"
   ]
  },
  {
   "cell_type": "code",
   "execution_count": 35,
   "metadata": {},
   "outputs": [
    {
     "data": {
      "text/plain": [
       "array([ 0.02989924, -0.00218333, -0.00048944, -0.0002055 ])"
      ]
     },
     "execution_count": 35,
     "metadata": {},
     "output_type": "execute_result"
    }
   ],
   "source": [
    "mean_errors_count = df_count.groupby(['epsilon'])['error'].mean().to_numpy()\n",
    "mean_errors_count"
   ]
  },
  {
   "cell_type": "markdown",
   "metadata": {},
   "source": [
    "### SUM"
   ]
  },
  {
   "cell_type": "code",
   "execution_count": 37,
   "metadata": {},
   "outputs": [
    {
     "data": {
      "text/plain": [
       "array([ 5.01050348e+00,  6.38572613e-01, -9.85219502e-02, -3.05356201e-03])"
      ]
     },
     "execution_count": 37,
     "metadata": {},
     "output_type": "execute_result"
    }
   ],
   "source": [
    "mean_errors_sum = df_sum.groupby(['epsilon'])['error'].mean().to_numpy()\n",
    "mean_errors_sum"
   ]
  },
  {
   "cell_type": "markdown",
   "metadata": {},
   "source": [
    "### Mean"
   ]
  },
  {
   "cell_type": "code",
   "execution_count": 36,
   "metadata": {},
   "outputs": [
    {
     "data": {
      "text/plain": [
       "array([-5.64807214,  1.10178387,  1.28380236,  1.08773447])"
      ]
     },
     "execution_count": 36,
     "metadata": {},
     "output_type": "execute_result"
    }
   ],
   "source": [
    "mean_errors_mean = df_mean.groupby(['epsilon'])['error'].mean().to_numpy()\n",
    "mean_errors_mean"
   ]
  },
  {
   "cell_type": "code",
   "execution_count": 49,
   "metadata": {},
   "outputs": [
    {
     "data": {
      "image/png": "[encoded data removed]",
      "text/plain": [
       "<Figure size 640x480 with 1 Axes>"
      ]
     },
     "metadata": {},
     "output_type": "display_data"
    }
   ],
   "source": [
    "epsilons_labels = ['0.01','0.2','log(2)','log(3)']\n",
    "  # plot lines\n",
    "plt.plot(epsilons, abs(mean_errors_count), label = \"Count\",marker = \"o\")\n",
    "plt.plot(epsilons, abs(mean_errors_sum), label = \"Sum\",marker = \"o\")\n",
    "plt.plot(epsilons, abs(mean_errors_mean), label = \"Mean\", marker = \"o\")\n",
    "\n",
    "plt.xticks(epsilons, epsilons_labels)\n",
    "plt.xlabel('Epsilon values')\n",
    "plt.ylabel('Mean error percentage')\n",
    "plt.legend()\n",
    "plt.show()"
   ]
  },
  {
   "cell_type": "code",
   "execution_count": null,
   "metadata": {},
   "outputs": [],
   "source": [
    "# df_count_001 = df_count[df_count['epsilon'] == '0.01']"
   ]
  },
  {
   "cell_type": "code",
   "execution_count": 52,
   "metadata": {},
   "outputs": [
    {
     "data": {
      "text/html": [
       "<div>\n",
       "<style scoped>\n",
       "    .dataframe tbody tr th:only-of-type {\n",
       "        vertical-align: middle;\n",
       "    }\n",
       "\n",
       "    .dataframe tbody tr th {\n",
       "        vertical-align: top;\n",
       "    }\n",
       "\n",
       "    .dataframe thead th {\n",
       "        text-align: right;\n",
       "    }\n",
       "</style>\n",
       "<table border=\"1\" class=\"dataframe\">\n",
       "  <thead>\n",
       "    <tr style=\"text-align: right;\">\n",
       "      <th></th>\n",
       "      <th>mean_error_all_epsilons</th>\n",
       "    </tr>\n",
       "  </thead>\n",
       "  <tbody>\n",
       "    <tr>\n",
       "      <th>COUNT</th>\n",
       "      <td>0.029899</td>\n",
       "    </tr>\n",
       "    <tr>\n",
       "      <th>SUM</th>\n",
       "      <td>5.010503</td>\n",
       "    </tr>\n",
       "    <tr>\n",
       "      <th>MEAN</th>\n",
       "      <td>5.648072</td>\n",
       "    </tr>\n",
       "  </tbody>\n",
       "</table>\n",
       "</div>"
      ],
      "text/plain": [
       "       mean_error_all_epsilons\n",
       "COUNT                 0.029899\n",
       "SUM                   5.010503\n",
       "MEAN                  5.648072"
      ]
     },
     "execution_count": 52,
     "metadata": {},
     "output_type": "execute_result"
    }
   ],
   "source": [
    "mean_errors = abs(np.array([df_count[df_count['epsilon'] == '0.01']['error'].mean(),df_sum[df_sum['epsilon'] == '0.01']['error'].mean(),df_mean[df_mean['epsilon'] =='0.01']['error'].mean()]))\n",
    "pd.DataFrame(data = mean_errors, index = ['COUNT','SUM','MEAN'],columns=['mean_error_all_epsilons'])"
   ]
  }
 ],
 "metadata": {
  "kernelspec": {
   "display_name": "Python 3.8.8 ('base')",
   "language": "python",
   "name": "python3"
  },
  "language_info": {
   "codemirror_mode": {
    "name": "ipython",
    "version": 3
   },
   "file_extension": ".py",
   "mimetype": "text/x-python",
   "name": "python",
   "nbconvert_exporter": "python",
   "pygments_lexer": "ipython3",
   "version": "3.8.8"
  },
  "orig_nbformat": 4,
  "vscode": {
   "interpreter": {
    "hash": "03d10abb906f65bdf92f0cf6bf0e9e92318b3e17b5124267de62c70620d20a7d"
   }
  }
 },
 "nbformat": 4,
 "nbformat_minor": 2
}
